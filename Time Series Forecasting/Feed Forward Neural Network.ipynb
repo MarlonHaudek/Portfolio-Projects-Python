{
 "cells": [
  {
   "cell_type": "markdown",
   "metadata": {},
   "source": [
    "This program uses a feed forward neural network, which is settled in machine learning.\n"
   ]
  },
  {
   "cell_type": "code",
   "execution_count": 30,
   "metadata": {},
   "outputs": [
    {
     "data": {
      "text/plain": [
       "'\\nDataset from: https://www.kaggle.com/rakannimer/air-passengers\\nInternational Airline Passengers prediction problem.\\nThis is a problem where, given a year and a month, the task is to predict \\nthe number of international airline passengers in units of 1,000. \\nThe data ranges from January 1949 to December 1960, or 12 years, with 144 observations.\\n'"
      ]
     },
     "execution_count": 30,
     "metadata": {},
     "output_type": "execute_result"
    }
   ],
   "source": [
    "# https://youtu.be/tKM5d8Ll1k0\n",
    "\"\"\"\n",
    "Dataset from: https://www.kaggle.com/rakannimer/air-passengers\n",
    "International Airline Passengers prediction problem.\n",
    "This is a problem where, given a year and a month, the task is to predict \n",
    "the number of international airline passengers in units of 1,000. \n",
    "The data ranges from January 1949 to December 1960, or 12 years, with 144 observations.\n",
    "\"\"\""
   ]
  },
  {
   "cell_type": "code",
   "execution_count": 31,
   "metadata": {},
   "outputs": [],
   "source": [
    "import numpy as np\n",
    "import matplotlib.pyplot as plt\n",
    "import pandas as pd\n",
    "import math\n",
    "import seaborn as sns"
   ]
  },
  {
   "cell_type": "code",
   "execution_count": 32,
   "metadata": {},
   "outputs": [],
   "source": [
    "# Machine learning libaries\n",
    "from keras.models import Sequential\n",
    "from keras.layers import Dense\n",
    "from sklearn.preprocessing import MinMaxScaler\n",
    "from sklearn.metrics import mean_squared_error"
   ]
  },
  {
   "cell_type": "markdown",
   "metadata": {},
   "source": [
    "# Data Preparation"
   ]
  },
  {
   "cell_type": "code",
   "execution_count": 33,
   "metadata": {},
   "outputs": [
    {
     "data": {
      "text/html": [
       "<div>\n",
       "<style scoped>\n",
       "    .dataframe tbody tr th:only-of-type {\n",
       "        vertical-align: middle;\n",
       "    }\n",
       "\n",
       "    .dataframe tbody tr th {\n",
       "        vertical-align: top;\n",
       "    }\n",
       "\n",
       "    .dataframe thead th {\n",
       "        text-align: right;\n",
       "    }\n",
       "</style>\n",
       "<table border=\"1\" class=\"dataframe\">\n",
       "  <thead>\n",
       "    <tr style=\"text-align: right;\">\n",
       "      <th></th>\n",
       "      <th>Passengers</th>\n",
       "    </tr>\n",
       "  </thead>\n",
       "  <tbody>\n",
       "    <tr>\n",
       "      <th>0</th>\n",
       "      <td>112</td>\n",
       "    </tr>\n",
       "    <tr>\n",
       "      <th>1</th>\n",
       "      <td>118</td>\n",
       "    </tr>\n",
       "    <tr>\n",
       "      <th>2</th>\n",
       "      <td>132</td>\n",
       "    </tr>\n",
       "    <tr>\n",
       "      <th>3</th>\n",
       "      <td>129</td>\n",
       "    </tr>\n",
       "    <tr>\n",
       "      <th>4</th>\n",
       "      <td>121</td>\n",
       "    </tr>\n",
       "    <tr>\n",
       "      <th>...</th>\n",
       "      <td>...</td>\n",
       "    </tr>\n",
       "    <tr>\n",
       "      <th>139</th>\n",
       "      <td>606</td>\n",
       "    </tr>\n",
       "    <tr>\n",
       "      <th>140</th>\n",
       "      <td>508</td>\n",
       "    </tr>\n",
       "    <tr>\n",
       "      <th>141</th>\n",
       "      <td>461</td>\n",
       "    </tr>\n",
       "    <tr>\n",
       "      <th>142</th>\n",
       "      <td>390</td>\n",
       "    </tr>\n",
       "    <tr>\n",
       "      <th>143</th>\n",
       "      <td>432</td>\n",
       "    </tr>\n",
       "  </tbody>\n",
       "</table>\n",
       "<p>144 rows × 1 columns</p>\n",
       "</div>"
      ],
      "text/plain": [
       "     Passengers\n",
       "0           112\n",
       "1           118\n",
       "2           132\n",
       "3           129\n",
       "4           121\n",
       "..          ...\n",
       "139         606\n",
       "140         508\n",
       "141         461\n",
       "142         390\n",
       "143         432\n",
       "\n",
       "[144 rows x 1 columns]"
      ]
     },
     "execution_count": 33,
     "metadata": {},
     "output_type": "execute_result"
    }
   ],
   "source": [
    "# load the dataset, but only imports second column\n",
    "dataframe = pd.read_csv('data/AirPassengers.csv', usecols=[1])\n",
    "\n",
    "# dataframe = pd.read_csv('data/AirPassengers.csv')\n",
    "dataframe\n"
   ]
  },
  {
   "cell_type": "code",
   "execution_count": 34,
   "metadata": {},
   "outputs": [
    {
     "ename": "KeyError",
     "evalue": "'Month'",
     "output_type": "error",
     "traceback": [
      "\u001b[1;31m---------------------------------------------------------------------------\u001b[0m",
      "\u001b[1;31mKeyError\u001b[0m                                  Traceback (most recent call last)",
      "File \u001b[1;32mc:\\ProgramData\\anaconda3\\Lib\\site-packages\\pandas\\core\\indexes\\base.py:3802\u001b[0m, in \u001b[0;36mIndex.get_loc\u001b[1;34m(self, key, method, tolerance)\u001b[0m\n\u001b[0;32m   3801\u001b[0m \u001b[39mtry\u001b[39;00m:\n\u001b[1;32m-> 3802\u001b[0m     \u001b[39mreturn\u001b[39;00m \u001b[39mself\u001b[39m\u001b[39m.\u001b[39m_engine\u001b[39m.\u001b[39mget_loc(casted_key)\n\u001b[0;32m   3803\u001b[0m \u001b[39mexcept\u001b[39;00m \u001b[39mKeyError\u001b[39;00m \u001b[39mas\u001b[39;00m err:\n",
      "File \u001b[1;32mc:\\ProgramData\\anaconda3\\Lib\\site-packages\\pandas\\_libs\\index.pyx:138\u001b[0m, in \u001b[0;36mpandas._libs.index.IndexEngine.get_loc\u001b[1;34m()\u001b[0m\n",
      "File \u001b[1;32mc:\\ProgramData\\anaconda3\\Lib\\site-packages\\pandas\\_libs\\index.pyx:165\u001b[0m, in \u001b[0;36mpandas._libs.index.IndexEngine.get_loc\u001b[1;34m()\u001b[0m\n",
      "File \u001b[1;32mpandas\\_libs\\hashtable_class_helper.pxi:5745\u001b[0m, in \u001b[0;36mpandas._libs.hashtable.PyObjectHashTable.get_item\u001b[1;34m()\u001b[0m\n",
      "File \u001b[1;32mpandas\\_libs\\hashtable_class_helper.pxi:5753\u001b[0m, in \u001b[0;36mpandas._libs.hashtable.PyObjectHashTable.get_item\u001b[1;34m()\u001b[0m\n",
      "\u001b[1;31mKeyError\u001b[0m: 'Month'",
      "\nThe above exception was the direct cause of the following exception:\n",
      "\u001b[1;31mKeyError\u001b[0m                                  Traceback (most recent call last)",
      "Cell \u001b[1;32mIn[34], line 2\u001b[0m\n\u001b[0;32m      1\u001b[0m \u001b[39m# converts column month from int64 to datetime\u001b[39;00m\n\u001b[1;32m----> 2\u001b[0m dataframe[\u001b[39m'\u001b[39m\u001b[39mMonth\u001b[39m\u001b[39m'\u001b[39m] \u001b[39m=\u001b[39m pd\u001b[39m.\u001b[39mto_datetime(dataframe[\u001b[39m'\u001b[39m\u001b[39mMonth\u001b[39m\u001b[39m'\u001b[39m])\n",
      "File \u001b[1;32mc:\\ProgramData\\anaconda3\\Lib\\site-packages\\pandas\\core\\frame.py:3807\u001b[0m, in \u001b[0;36mDataFrame.__getitem__\u001b[1;34m(self, key)\u001b[0m\n\u001b[0;32m   3805\u001b[0m \u001b[39mif\u001b[39;00m \u001b[39mself\u001b[39m\u001b[39m.\u001b[39mcolumns\u001b[39m.\u001b[39mnlevels \u001b[39m>\u001b[39m \u001b[39m1\u001b[39m:\n\u001b[0;32m   3806\u001b[0m     \u001b[39mreturn\u001b[39;00m \u001b[39mself\u001b[39m\u001b[39m.\u001b[39m_getitem_multilevel(key)\n\u001b[1;32m-> 3807\u001b[0m indexer \u001b[39m=\u001b[39m \u001b[39mself\u001b[39m\u001b[39m.\u001b[39mcolumns\u001b[39m.\u001b[39mget_loc(key)\n\u001b[0;32m   3808\u001b[0m \u001b[39mif\u001b[39;00m is_integer(indexer):\n\u001b[0;32m   3809\u001b[0m     indexer \u001b[39m=\u001b[39m [indexer]\n",
      "File \u001b[1;32mc:\\ProgramData\\anaconda3\\Lib\\site-packages\\pandas\\core\\indexes\\base.py:3804\u001b[0m, in \u001b[0;36mIndex.get_loc\u001b[1;34m(self, key, method, tolerance)\u001b[0m\n\u001b[0;32m   3802\u001b[0m     \u001b[39mreturn\u001b[39;00m \u001b[39mself\u001b[39m\u001b[39m.\u001b[39m_engine\u001b[39m.\u001b[39mget_loc(casted_key)\n\u001b[0;32m   3803\u001b[0m \u001b[39mexcept\u001b[39;00m \u001b[39mKeyError\u001b[39;00m \u001b[39mas\u001b[39;00m err:\n\u001b[1;32m-> 3804\u001b[0m     \u001b[39mraise\u001b[39;00m \u001b[39mKeyError\u001b[39;00m(key) \u001b[39mfrom\u001b[39;00m \u001b[39merr\u001b[39;00m\n\u001b[0;32m   3805\u001b[0m \u001b[39mexcept\u001b[39;00m \u001b[39mTypeError\u001b[39;00m:\n\u001b[0;32m   3806\u001b[0m     \u001b[39m# If we have a listlike key, _check_indexing_error will raise\u001b[39;00m\n\u001b[0;32m   3807\u001b[0m     \u001b[39m#  InvalidIndexError. Otherwise we fall through and re-raise\u001b[39;00m\n\u001b[0;32m   3808\u001b[0m     \u001b[39m#  the TypeError.\u001b[39;00m\n\u001b[0;32m   3809\u001b[0m     \u001b[39mself\u001b[39m\u001b[39m.\u001b[39m_check_indexing_error(key)\n",
      "\u001b[1;31mKeyError\u001b[0m: 'Month'"
     ]
    }
   ],
   "source": [
    "# converts column month from int64 to datetime\n",
    "dataframe['Month'] = pd.to_datetime(dataframe['Month'])"
   ]
  },
  {
   "cell_type": "code",
   "execution_count": null,
   "metadata": {},
   "outputs": [],
   "source": [
    "# sets month column as index of dataframe\n",
    "dataframe.set_index('Month', inplace=True) "
   ]
  },
  {
   "cell_type": "code",
   "execution_count": null,
   "metadata": {},
   "outputs": [],
   "source": [
    "# Plot data\n",
    "plt.plot(dataframe)"
   ]
  },
  {
   "cell_type": "markdown",
   "metadata": {},
   "source": [
    "# Data Exploration"
   ]
  },
  {
   "cell_type": "code",
   "execution_count": null,
   "metadata": {},
   "outputs": [],
   "source": [
    "dataframe['year'] = dataframe.index.year\n",
    "dataframe['month'] = dataframe.index.month"
   ]
  },
  {
   "cell_type": "code",
   "execution_count": null,
   "metadata": {},
   "outputs": [],
   "source": [
    "#Plot yearly and monthly values as boxplot\n",
    "sns.boxplot(x='year', y='Passengers', data=dataframe)\n"
   ]
  },
  {
   "cell_type": "code",
   "execution_count": null,
   "metadata": {},
   "outputs": [],
   "source": [
    "sns.boxplot(x='month', y='Passengers', data=dataframe)"
   ]
  },
  {
   "cell_type": "code",
   "execution_count": null,
   "metadata": {},
   "outputs": [],
   "source": [
    "# One can extract the trends and seasonality within the data by using the following \n",
    "from statsmodels.tsa.seasonal import seasonal_decompose \n",
    "decomposed = seasonal_decompose(dataframe['Passengers'],  \n",
    "                            model ='additive')"
   ]
  },
  {
   "cell_type": "code",
   "execution_count": null,
   "metadata": {},
   "outputs": [],
   "source": [
    "# There can be different time series types\n",
    "\"\"\"\n",
    "Additive time series:\n",
    "Value = Base Level + Trend + Seasonality + Error\n",
    "Multiplicative Time Series:\n",
    "Value = Base Level x Trend x Seasonality x Error\n",
    "\n",
    "\"\"\""
   ]
  },
  {
   "cell_type": "code",
   "execution_count": null,
   "metadata": {},
   "outputs": [],
   "source": [
    "# From the imported module \"seasonal_decompose\" one can extract the trend, seasonal, and residual \n",
    "trend = decomposed.trend\n",
    "seasonal = decomposed.seasonal #Cyclic behavior may not be seasonal!\n",
    "residual = decomposed.resid"
   ]
  },
  {
   "cell_type": "code",
   "execution_count": null,
   "metadata": {},
   "outputs": [],
   "source": [
    "# Plot all Data Explorations\n",
    "plt.figure(figsize=(12,8))\n",
    "plt.subplot(411)\n",
    "plt.plot(dataframe['Passengers'], label='Original', color='black')\n",
    "plt.legend(loc='upper left')\n",
    "plt.subplot(412)\n",
    "plt.plot(trend, label='Trend', color='black')\n",
    "plt.legend(loc='upper left')\n",
    "plt.subplot(413)\n",
    "plt.plot(seasonal, label='Seasonal', color='black')\n",
    "plt.legend(loc='upper left')\n",
    "plt.subplot(414)\n",
    "plt.plot(residual, label='Residual', color='black')\n",
    "plt.legend(loc='upper left')\n",
    "plt.show()"
   ]
  },
  {
   "cell_type": "code",
   "execution_count": null,
   "metadata": {},
   "outputs": [],
   "source": [
    "# Since time series data is commonly only correlated with nothing but itself,\n",
    "# it is interesting to detect the degreee of autocorrelation for the dataset\n",
    "\n",
    "\"\"\"\"\n",
    "Autocorrelation is simply the correlation of a series with its own lags.\n",
    "Plot lag on x axis and correlation on y axis\n",
    "Any correlation above confidence lnes are statistically significant.\n",
    "\n",
    "\"\"\""
   ]
  },
  {
   "cell_type": "code",
   "execution_count": null,
   "metadata": {},
   "outputs": [],
   "source": [
    "# Detect autocorrelation with pandas module\n",
    "#Obtain the same but with single line and more info...\n",
    "from pandas.plotting import autocorrelation_plot\n",
    "autocorrelation_plot(dataframe.Passengers) \n",
    "#Horizontal bands indicate 95% and 99% (dashed) confidence bands"
   ]
  },
  {
   "cell_type": "code",
   "execution_count": null,
   "metadata": {},
   "outputs": [],
   "source": [
    "# In the graph one can see, that for smaller lags than 40 there is a 99% confidence of positive autocorrelation"
   ]
  },
  {
   "cell_type": "markdown",
   "metadata": {},
   "source": [
    "# Feed Forward Neural Network"
   ]
  },
  {
   "cell_type": "code",
   "execution_count": 41,
   "metadata": {},
   "outputs": [],
   "source": [
    "# For machine learning values need to be between 0 and 1 \n",
    "# Therefore a type change is necessary from int to float 32\n",
    "dataset = dataframe['Passengers'].values\n",
    "dataset = dataset.astype('float32') #COnvert values to float"
   ]
  },
  {
   "cell_type": "code",
   "execution_count": 52,
   "metadata": {},
   "outputs": [
    {
     "data": {
      "text/plain": [
       "(144, 1)"
      ]
     },
     "execution_count": 52,
     "metadata": {},
     "output_type": "execute_result"
    }
   ],
   "source": [
    "# Reshapes array such it has dimensions (X,1)\n",
    "dataset = dataset.reshape(dataset.shape[0],1)\n",
    "dataset.shape"
   ]
  },
  {
   "cell_type": "code",
   "execution_count": 53,
   "metadata": {},
   "outputs": [],
   "source": [
    "# Normalization is optional but recommended for neural network as certain \n",
    "# activation functions are sensitive to magnitude of numbers. \n",
    "# normalize the dataset\n",
    "scaler = MinMaxScaler(feature_range=(0, 1)) #Also try QuantileTransformer\n",
    "dataset = scaler.fit_transform(dataset)"
   ]
  },
  {
   "cell_type": "code",
   "execution_count": 54,
   "metadata": {},
   "outputs": [
    {
     "data": {
      "text/plain": [
       "[<matplotlib.lines.Line2D at 0x267cdece590>]"
      ]
     },
     "execution_count": 54,
     "metadata": {},
     "output_type": "execute_result"
    },
    {
     "data": {
      "image/png": "[encoded data removed]",
      "text/plain": [
       "<Figure size 640x480 with 1 Axes>"
      ]
     },
     "metadata": {},
     "output_type": "display_data"
    }
   ],
   "source": [
    "plt.plot(dataset)"
   ]
  },
  {
   "cell_type": "code",
   "execution_count": 55,
   "metadata": {},
   "outputs": [],
   "source": [
    "#We cannot use random way of splitting dataset into train and test as\n",
    "#the sequence of events is important for time series.\n",
    "#So let us take first 66% values for train and the remaining 1/3 for testing\n",
    "# split into train and test sets\n",
    "train_size = int(len(dataset) * 0.66)\n",
    "test_size = len(dataset) - train_size\n",
    "train, test = dataset[0:train_size,:], dataset[train_size:len(dataset),:]"
   ]
  },
  {
   "cell_type": "code",
   "execution_count": 56,
   "metadata": {},
   "outputs": [
    {
     "data": {
      "text/plain": [
       "'\"\\n\\nWe cannot fit the model like we normally do for image processing where we have\\nX and Y. We need to transform our data into something that looks like X and Y values.\\nThis way it can be trained on a sequence rather than indvidual datapoints. \\nLet us convert into n number of columns for X where we feed sequence of numbers\\nthen the final column as Y where we provide the next number in the sequence as output.\\nSo let us convert an array of values into a dataset matrix\\n\\n'"
      ]
     },
     "execution_count": 56,
     "metadata": {},
     "output_type": "execute_result"
    }
   ],
   "source": [
    "\"\"\"\"\n",
    "\n",
    "We cannot fit the model like we normally do for image processing where we have\n",
    "X and Y. We need to sequentially input our data from the training dataset, \n",
    "such that, for example, the 5 values are taken as input to the network and \n",
    "the 6th sequential value in the train dataset is taken as the output for the network.\n",
    "This way the network learns what correlations there are such that the 4 input values\n",
    "result in the 6th or nth output value. \n",
    "\n",
    "\"\"\""
   ]
  },
  {
   "cell_type": "code",
   "execution_count": 57,
   "metadata": {},
   "outputs": [],
   "source": [
    "# Number of time steps to look back \n",
    "#Larger sequences (look further back) may improve forecasting.\n",
    "seq_size = 20"
   ]
  },
  {
   "cell_type": "code",
   "execution_count": 58,
   "metadata": {},
   "outputs": [
    {
     "name": "stdout",
     "output_type": "stream",
     "text": [
      "Total number of samples in the original training data =  95\n",
      "Total number of samples in the generated data =  75\n"
     ]
    }
   ],
   "source": [
    "#Use TimeseriesGenerator to organize training data into the right format\n",
    "from keras.preprocessing.sequence import TimeseriesGenerator # Generates batches for sequence data\n",
    "\n",
    "\n",
    "batch_size = 1\n",
    "train_generator = TimeseriesGenerator(train.reshape(-1), train.reshape(-1), length=seq_size, batch_size=batch_size)\n",
    "print(\"Total number of samples in the original training data = \", len(train)) # 95\n",
    "print(\"Total number of samples in the generated data = \", len(train_generator)) # 55\n",
    "#With length 40 it generated 55 samples, each of length 40 (by using data of length 95)"
   ]
  },
  {
   "cell_type": "code",
   "execution_count": 65,
   "metadata": {},
   "outputs": [
    {
     "data": {
      "text/plain": [
       "(array([[0.01544401, 0.02702703, 0.05405405, 0.04826255, 0.03281853,\n",
       "         0.05984557, 0.08494207, 0.08494207, 0.06177607, 0.02895753,\n",
       "         0.        , 0.02702703, 0.02123553, 0.04247104, 0.07142857,\n",
       "         0.05984557, 0.04054055, 0.08687258, 0.12741312, 0.12741312]],\n",
       "       dtype=float32),\n",
       " array([0.10424709], dtype=float32))"
      ]
     },
     "execution_count": 65,
     "metadata": {},
     "output_type": "execute_result"
    }
   ],
   "source": [
    "# As an example this is the first sequence that is feed into the network\n",
    "# It contains 20 input values in one array and 1 output value in another array\n",
    "train_generator[0]"
   ]
  },
  {
   "cell_type": "code",
   "execution_count": 66,
   "metadata": {},
   "outputs": [],
   "source": [
    "# Generates validation data with same procedure\n",
    "validation_generator = TimeseriesGenerator(test.reshape(-1), test.reshape(-1), length=seq_size, batch_size=batch_size)"
   ]
  },
  {
   "cell_type": "code",
   "execution_count": 67,
   "metadata": {},
   "outputs": [
    {
     "name": "stdout",
     "output_type": "stream",
     "text": [
      "Model: \"sequential\"\n",
      "_________________________________________________________________\n",
      " Layer (type)                Output Shape              Param #   \n",
      "=================================================================\n",
      " dense (Dense)               (None, 64)                1344      \n",
      "                                                                 \n",
      " dense_1 (Dense)             (None, 32)                2080      \n",
      "                                                                 \n",
      " dense_2 (Dense)             (None, 1)                 33        \n",
      "                                                                 \n",
      "=================================================================\n",
      "Total params: 3457 (13.50 KB)\n",
      "Trainable params: 3457 (13.50 KB)\n",
      "Non-trainable params: 0 (0.00 Byte)\n",
      "_________________________________________________________________\n",
      "None\n"
     ]
    }
   ],
   "source": [
    "# Build network/ model\n",
    "model = Sequential()\n",
    "model.add(Dense(64, input_dim=seq_size, activation='relu'))     #<-- common layer setup \n",
    "model.add(Dense(32, activation='relu'))                         #<-- common layer setup  \n",
    "model.add(Dense(1))                                             #<-- since we want one output value, last dense layer has only (1)\n",
    "model.compile(loss='mean_squared_error', optimizer='adam', metrics = ['acc'])\n",
    "print(model.summary())"
   ]
  },
  {
   "cell_type": "code",
   "execution_count": 69,
   "metadata": {},
   "outputs": [
    {
     "name": "stdout",
     "output_type": "stream",
     "text": [
      "Epoch 1/100\n",
      "16/75 [=====>........................] - ETA: 0s - loss: 2.4752e-04 - acc: 0.0000e+00"
     ]
    },
    {
     "name": "stderr",
     "output_type": "stream",
     "text": [
      "C:\\Users\\PC\\AppData\\Local\\Temp\\ipykernel_11452\\3905446002.py:3: UserWarning: `Model.fit_generator` is deprecated and will be removed in a future version. Please use `Model.fit`, which supports generators.\n",
      "  model.fit_generator(generator=train_generator, verbose=1, epochs=100, validation_data=validation_generator)\n"
     ]
    },
    {
     "name": "stdout",
     "output_type": "stream",
     "text": [
      "75/75 [==============================] - 0s 5ms/step - loss: 2.7936e-04 - acc: 0.0000e+00 - val_loss: 0.0015 - val_acc: 0.0345\n",
      "Epoch 2/100\n",
      "75/75 [==============================] - 0s 3ms/step - loss: 2.0928e-04 - acc: 0.0000e+00 - val_loss: 0.0018 - val_acc: 0.0345\n",
      "Epoch 3/100\n",
      "75/75 [==============================] - 0s 3ms/step - loss: 2.5023e-04 - acc: 0.0000e+00 - val_loss: 0.0014 - val_acc: 0.0345\n",
      "Epoch 4/100\n",
      "75/75 [==============================] - 0s 3ms/step - loss: 2.4984e-04 - acc: 0.0000e+00 - val_loss: 0.0023 - val_acc: 0.0345\n",
      "Epoch 5/100\n",
      "75/75 [==============================] - 0s 3ms/step - loss: 2.4456e-04 - acc: 0.0000e+00 - val_loss: 0.0016 - val_acc: 0.0345\n",
      "Epoch 6/100\n",
      "75/75 [==============================] - 0s 3ms/step - loss: 4.1494e-04 - acc: 0.0000e+00 - val_loss: 0.0061 - val_acc: 0.0345\n",
      "Epoch 7/100\n",
      "75/75 [==============================] - 0s 3ms/step - loss: 4.0415e-04 - acc: 0.0000e+00 - val_loss: 0.0012 - val_acc: 0.0345\n",
      "Epoch 8/100\n",
      "75/75 [==============================] - 0s 3ms/step - loss: 3.9139e-04 - acc: 0.0000e+00 - val_loss: 0.0019 - val_acc: 0.0345\n",
      "Epoch 9/100\n",
      "75/75 [==============================] - 0s 3ms/step - loss: 4.4336e-04 - acc: 0.0000e+00 - val_loss: 0.0013 - val_acc: 0.0345\n",
      "Epoch 10/100\n",
      "75/75 [==============================] - 0s 3ms/step - loss: 3.8275e-04 - acc: 0.0000e+00 - val_loss: 0.0015 - val_acc: 0.0345\n",
      "Epoch 11/100\n",
      "75/75 [==============================] - 0s 3ms/step - loss: 2.3230e-04 - acc: 0.0000e+00 - val_loss: 0.0014 - val_acc: 0.0345\n",
      "Epoch 12/100\n",
      "75/75 [==============================] - 0s 3ms/step - loss: 2.1884e-04 - acc: 0.0000e+00 - val_loss: 0.0026 - val_acc: 0.0345\n",
      "Epoch 13/100\n",
      "75/75 [==============================] - 0s 3ms/step - loss: 2.9449e-04 - acc: 0.0000e+00 - val_loss: 0.0016 - val_acc: 0.0345\n",
      "Epoch 14/100\n",
      "75/75 [==============================] - 0s 3ms/step - loss: 3.0830e-04 - acc: 0.0000e+00 - val_loss: 0.0012 - val_acc: 0.0345\n",
      "Epoch 15/100\n",
      "75/75 [==============================] - 0s 3ms/step - loss: 1.8812e-04 - acc: 0.0000e+00 - val_loss: 0.0018 - val_acc: 0.0345\n",
      "Epoch 16/100\n",
      "75/75 [==============================] - 0s 3ms/step - loss: 2.2151e-04 - acc: 0.0000e+00 - val_loss: 0.0017 - val_acc: 0.0345\n",
      "Epoch 17/100\n",
      "75/75 [==============================] - 0s 3ms/step - loss: 2.2996e-04 - acc: 0.0000e+00 - val_loss: 0.0012 - val_acc: 0.0345\n",
      "Epoch 18/100\n",
      "75/75 [==============================] - 0s 4ms/step - loss: 2.0203e-04 - acc: 0.0000e+00 - val_loss: 0.0013 - val_acc: 0.0345\n",
      "Epoch 19/100\n",
      "75/75 [==============================] - 0s 3ms/step - loss: 3.7265e-04 - acc: 0.0000e+00 - val_loss: 0.0020 - val_acc: 0.0345\n",
      "Epoch 20/100\n",
      "75/75 [==============================] - 0s 3ms/step - loss: 3.1242e-04 - acc: 0.0000e+00 - val_loss: 0.0011 - val_acc: 0.0345\n",
      "Epoch 21/100\n",
      "75/75 [==============================] - 0s 3ms/step - loss: 2.3130e-04 - acc: 0.0000e+00 - val_loss: 0.0054 - val_acc: 0.0345\n",
      "Epoch 22/100\n",
      "75/75 [==============================] - 0s 3ms/step - loss: 2.8379e-04 - acc: 0.0000e+00 - val_loss: 0.0024 - val_acc: 0.0345\n",
      "Epoch 23/100\n",
      "75/75 [==============================] - 0s 3ms/step - loss: 2.9573e-04 - acc: 0.0000e+00 - val_loss: 0.0022 - val_acc: 0.0345\n",
      "Epoch 24/100\n",
      "75/75 [==============================] - 0s 3ms/step - loss: 3.8790e-04 - acc: 0.0000e+00 - val_loss: 0.0010 - val_acc: 0.0345\n",
      "Epoch 25/100\n",
      "75/75 [==============================] - 0s 3ms/step - loss: 2.7017e-04 - acc: 0.0000e+00 - val_loss: 0.0012 - val_acc: 0.0345\n",
      "Epoch 26/100\n",
      "75/75 [==============================] - 0s 3ms/step - loss: 1.8913e-04 - acc: 0.0000e+00 - val_loss: 0.0024 - val_acc: 0.0345\n",
      "Epoch 27/100\n",
      "75/75 [==============================] - 0s 3ms/step - loss: 3.6252e-04 - acc: 0.0000e+00 - val_loss: 0.0017 - val_acc: 0.0345\n",
      "Epoch 28/100\n",
      "75/75 [==============================] - 0s 3ms/step - loss: 2.3326e-04 - acc: 0.0000e+00 - val_loss: 0.0013 - val_acc: 0.0345\n",
      "Epoch 29/100\n",
      "75/75 [==============================] - 0s 3ms/step - loss: 2.2734e-04 - acc: 0.0000e+00 - val_loss: 0.0018 - val_acc: 0.0345\n",
      "Epoch 30/100\n",
      "75/75 [==============================] - 0s 3ms/step - loss: 4.1187e-04 - acc: 0.0000e+00 - val_loss: 0.0012 - val_acc: 0.0345\n",
      "Epoch 31/100\n",
      "75/75 [==============================] - 0s 3ms/step - loss: 1.6588e-04 - acc: 0.0000e+00 - val_loss: 0.0015 - val_acc: 0.0345\n",
      "Epoch 32/100\n",
      "75/75 [==============================] - 0s 3ms/step - loss: 1.7049e-04 - acc: 0.0000e+00 - val_loss: 9.7999e-04 - val_acc: 0.0345\n",
      "Epoch 33/100\n",
      "75/75 [==============================] - 0s 3ms/step - loss: 2.8492e-04 - acc: 0.0000e+00 - val_loss: 0.0021 - val_acc: 0.0345\n",
      "Epoch 34/100\n",
      "75/75 [==============================] - 0s 3ms/step - loss: 3.2132e-04 - acc: 0.0000e+00 - val_loss: 0.0032 - val_acc: 0.0345\n",
      "Epoch 35/100\n",
      "75/75 [==============================] - 0s 3ms/step - loss: 2.7342e-04 - acc: 0.0000e+00 - val_loss: 0.0013 - val_acc: 0.0345\n",
      "Epoch 36/100\n",
      "75/75 [==============================] - 0s 3ms/step - loss: 3.3916e-04 - acc: 0.0000e+00 - val_loss: 0.0031 - val_acc: 0.0345\n",
      "Epoch 37/100\n",
      "75/75 [==============================] - 0s 3ms/step - loss: 3.2186e-04 - acc: 0.0000e+00 - val_loss: 0.0013 - val_acc: 0.0345\n",
      "Epoch 38/100\n",
      "75/75 [==============================] - 0s 3ms/step - loss: 2.2348e-04 - acc: 0.0000e+00 - val_loss: 0.0012 - val_acc: 0.0345\n",
      "Epoch 39/100\n",
      "75/75 [==============================] - 0s 3ms/step - loss: 1.8635e-04 - acc: 0.0000e+00 - val_loss: 0.0021 - val_acc: 0.0345\n",
      "Epoch 40/100\n",
      "75/75 [==============================] - 0s 3ms/step - loss: 2.5243e-04 - acc: 0.0000e+00 - val_loss: 0.0013 - val_acc: 0.0345\n",
      "Epoch 41/100\n",
      "75/75 [==============================] - 0s 3ms/step - loss: 2.9771e-04 - acc: 0.0000e+00 - val_loss: 0.0019 - val_acc: 0.0345\n",
      "Epoch 42/100\n",
      "75/75 [==============================] - 0s 3ms/step - loss: 2.3469e-04 - acc: 0.0000e+00 - val_loss: 0.0023 - val_acc: 0.0345\n",
      "Epoch 43/100\n",
      "75/75 [==============================] - 0s 3ms/step - loss: 2.0958e-04 - acc: 0.0000e+00 - val_loss: 0.0014 - val_acc: 0.0345\n",
      "Epoch 44/100\n",
      "75/75 [==============================] - 0s 4ms/step - loss: 2.7213e-04 - acc: 0.0000e+00 - val_loss: 0.0017 - val_acc: 0.0345\n",
      "Epoch 45/100\n",
      "75/75 [==============================] - 0s 3ms/step - loss: 2.3062e-04 - acc: 0.0000e+00 - val_loss: 0.0012 - val_acc: 0.0345\n",
      "Epoch 46/100\n",
      "75/75 [==============================] - 0s 3ms/step - loss: 2.6830e-04 - acc: 0.0000e+00 - val_loss: 0.0073 - val_acc: 0.0345\n",
      "Epoch 47/100\n",
      "75/75 [==============================] - 0s 3ms/step - loss: 2.8964e-04 - acc: 0.0000e+00 - val_loss: 0.0023 - val_acc: 0.0345\n",
      "Epoch 48/100\n",
      "75/75 [==============================] - 0s 3ms/step - loss: 3.3950e-04 - acc: 0.0000e+00 - val_loss: 0.0013 - val_acc: 0.0345\n",
      "Epoch 49/100\n",
      "75/75 [==============================] - 0s 3ms/step - loss: 3.3559e-04 - acc: 0.0000e+00 - val_loss: 0.0013 - val_acc: 0.0345\n",
      "Epoch 50/100\n",
      "75/75 [==============================] - 0s 3ms/step - loss: 1.8870e-04 - acc: 0.0000e+00 - val_loss: 0.0012 - val_acc: 0.0345\n",
      "Epoch 51/100\n",
      "75/75 [==============================] - 0s 3ms/step - loss: 2.0172e-04 - acc: 0.0000e+00 - val_loss: 0.0015 - val_acc: 0.0345\n",
      "Epoch 52/100\n",
      "75/75 [==============================] - 0s 3ms/step - loss: 1.9498e-04 - acc: 0.0000e+00 - val_loss: 0.0014 - val_acc: 0.0345\n",
      "Epoch 53/100\n",
      "75/75 [==============================] - 0s 3ms/step - loss: 3.0892e-04 - acc: 0.0000e+00 - val_loss: 0.0015 - val_acc: 0.0345\n",
      "Epoch 54/100\n",
      "75/75 [==============================] - 0s 3ms/step - loss: 3.1601e-04 - acc: 0.0000e+00 - val_loss: 0.0022 - val_acc: 0.0345\n",
      "Epoch 55/100\n",
      "75/75 [==============================] - 0s 3ms/step - loss: 1.9826e-04 - acc: 0.0000e+00 - val_loss: 0.0028 - val_acc: 0.0345\n",
      "Epoch 56/100\n",
      "75/75 [==============================] - 0s 3ms/step - loss: 2.5228e-04 - acc: 0.0000e+00 - val_loss: 0.0016 - val_acc: 0.0345\n",
      "Epoch 57/100\n",
      "75/75 [==============================] - 0s 3ms/step - loss: 1.9764e-04 - acc: 0.0000e+00 - val_loss: 0.0016 - val_acc: 0.0345\n",
      "Epoch 58/100\n",
      "75/75 [==============================] - 0s 3ms/step - loss: 1.4420e-04 - acc: 0.0000e+00 - val_loss: 0.0019 - val_acc: 0.0345\n",
      "Epoch 59/100\n",
      "75/75 [==============================] - 0s 3ms/step - loss: 2.3319e-04 - acc: 0.0000e+00 - val_loss: 0.0015 - val_acc: 0.0345\n",
      "Epoch 60/100\n",
      "75/75 [==============================] - 0s 3ms/step - loss: 1.6114e-04 - acc: 0.0000e+00 - val_loss: 0.0011 - val_acc: 0.0345\n",
      "Epoch 61/100\n",
      "75/75 [==============================] - 0s 3ms/step - loss: 1.9340e-04 - acc: 0.0000e+00 - val_loss: 0.0023 - val_acc: 0.0345\n",
      "Epoch 62/100\n",
      "75/75 [==============================] - 0s 3ms/step - loss: 2.3387e-04 - acc: 0.0000e+00 - val_loss: 0.0016 - val_acc: 0.0345\n",
      "Epoch 63/100\n",
      "75/75 [==============================] - 0s 3ms/step - loss: 1.8295e-04 - acc: 0.0000e+00 - val_loss: 0.0010 - val_acc: 0.0345\n",
      "Epoch 64/100\n",
      "75/75 [==============================] - 0s 3ms/step - loss: 1.8787e-04 - acc: 0.0000e+00 - val_loss: 0.0013 - val_acc: 0.0345\n",
      "Epoch 65/100\n",
      "75/75 [==============================] - 0s 3ms/step - loss: 1.8054e-04 - acc: 0.0000e+00 - val_loss: 0.0019 - val_acc: 0.0345\n",
      "Epoch 66/100\n",
      "75/75 [==============================] - 0s 3ms/step - loss: 1.3397e-04 - acc: 0.0000e+00 - val_loss: 0.0011 - val_acc: 0.0345\n",
      "Epoch 67/100\n",
      "75/75 [==============================] - 0s 4ms/step - loss: 1.5425e-04 - acc: 0.0000e+00 - val_loss: 0.0023 - val_acc: 0.0345\n",
      "Epoch 68/100\n",
      "75/75 [==============================] - 0s 3ms/step - loss: 2.1802e-04 - acc: 0.0000e+00 - val_loss: 0.0012 - val_acc: 0.0345\n",
      "Epoch 69/100\n",
      "75/75 [==============================] - 0s 3ms/step - loss: 2.0276e-04 - acc: 0.0000e+00 - val_loss: 0.0012 - val_acc: 0.0345\n",
      "Epoch 70/100\n",
      "75/75 [==============================] - 0s 3ms/step - loss: 2.2936e-04 - acc: 0.0000e+00 - val_loss: 0.0015 - val_acc: 0.0345\n",
      "Epoch 71/100\n",
      "75/75 [==============================] - 0s 3ms/step - loss: 4.1178e-04 - acc: 0.0000e+00 - val_loss: 0.0014 - val_acc: 0.0345\n",
      "Epoch 72/100\n",
      "75/75 [==============================] - 0s 3ms/step - loss: 2.6027e-04 - acc: 0.0000e+00 - val_loss: 0.0012 - val_acc: 0.0345\n",
      "Epoch 73/100\n",
      "75/75 [==============================] - 0s 3ms/step - loss: 2.2756e-04 - acc: 0.0000e+00 - val_loss: 0.0028 - val_acc: 0.0345\n",
      "Epoch 74/100\n",
      "75/75 [==============================] - 0s 3ms/step - loss: 2.0821e-04 - acc: 0.0000e+00 - val_loss: 0.0011 - val_acc: 0.0345\n",
      "Epoch 75/100\n",
      "75/75 [==============================] - 0s 3ms/step - loss: 1.3580e-04 - acc: 0.0000e+00 - val_loss: 0.0010 - val_acc: 0.0345\n",
      "Epoch 76/100\n",
      "75/75 [==============================] - 0s 3ms/step - loss: 1.5631e-04 - acc: 0.0000e+00 - val_loss: 9.7274e-04 - val_acc: 0.0345\n",
      "Epoch 77/100\n",
      "75/75 [==============================] - 0s 3ms/step - loss: 1.3310e-04 - acc: 0.0000e+00 - val_loss: 0.0011 - val_acc: 0.0345\n",
      "Epoch 78/100\n",
      "75/75 [==============================] - 0s 4ms/step - loss: 1.5307e-04 - acc: 0.0000e+00 - val_loss: 0.0015 - val_acc: 0.0345\n",
      "Epoch 79/100\n",
      "75/75 [==============================] - 0s 3ms/step - loss: 2.4431e-04 - acc: 0.0000e+00 - val_loss: 0.0029 - val_acc: 0.0345\n",
      "Epoch 80/100\n",
      "75/75 [==============================] - 0s 3ms/step - loss: 1.8609e-04 - acc: 0.0000e+00 - val_loss: 0.0032 - val_acc: 0.0345\n",
      "Epoch 81/100\n",
      "75/75 [==============================] - 0s 3ms/step - loss: 2.2577e-04 - acc: 0.0000e+00 - val_loss: 0.0017 - val_acc: 0.0345\n",
      "Epoch 82/100\n",
      "75/75 [==============================] - 0s 3ms/step - loss: 1.7140e-04 - acc: 0.0000e+00 - val_loss: 0.0015 - val_acc: 0.0345\n",
      "Epoch 83/100\n",
      "75/75 [==============================] - 0s 3ms/step - loss: 2.9406e-04 - acc: 0.0000e+00 - val_loss: 0.0017 - val_acc: 0.0345\n",
      "Epoch 84/100\n",
      "75/75 [==============================] - 0s 3ms/step - loss: 2.6914e-04 - acc: 0.0000e+00 - val_loss: 0.0011 - val_acc: 0.0345\n",
      "Epoch 85/100\n",
      "75/75 [==============================] - 0s 3ms/step - loss: 2.3917e-04 - acc: 0.0000e+00 - val_loss: 0.0011 - val_acc: 0.0345\n",
      "Epoch 86/100\n",
      "75/75 [==============================] - 0s 3ms/step - loss: 1.2547e-04 - acc: 0.0000e+00 - val_loss: 0.0015 - val_acc: 0.0345\n",
      "Epoch 87/100\n",
      "75/75 [==============================] - 0s 3ms/step - loss: 1.2232e-04 - acc: 0.0000e+00 - val_loss: 0.0014 - val_acc: 0.0345\n",
      "Epoch 88/100\n",
      "75/75 [==============================] - 0s 4ms/step - loss: 1.9383e-04 - acc: 0.0000e+00 - val_loss: 0.0015 - val_acc: 0.0345\n",
      "Epoch 89/100\n",
      "75/75 [==============================] - 0s 3ms/step - loss: 3.3804e-04 - acc: 0.0000e+00 - val_loss: 0.0022 - val_acc: 0.0345\n",
      "Epoch 90/100\n",
      "75/75 [==============================] - 0s 3ms/step - loss: 2.5166e-04 - acc: 0.0000e+00 - val_loss: 0.0020 - val_acc: 0.0345\n",
      "Epoch 91/100\n",
      "75/75 [==============================] - 0s 3ms/step - loss: 1.8676e-04 - acc: 0.0000e+00 - val_loss: 0.0011 - val_acc: 0.0345\n",
      "Epoch 92/100\n",
      "75/75 [==============================] - 0s 3ms/step - loss: 1.5537e-04 - acc: 0.0000e+00 - val_loss: 0.0011 - val_acc: 0.0345\n",
      "Epoch 93/100\n",
      "75/75 [==============================] - 0s 3ms/step - loss: 1.5315e-04 - acc: 0.0000e+00 - val_loss: 0.0013 - val_acc: 0.0345\n",
      "Epoch 94/100\n",
      "75/75 [==============================] - 0s 3ms/step - loss: 2.3285e-04 - acc: 0.0000e+00 - val_loss: 0.0017 - val_acc: 0.0345\n",
      "Epoch 95/100\n",
      "75/75 [==============================] - 0s 3ms/step - loss: 1.3374e-04 - acc: 0.0000e+00 - val_loss: 0.0013 - val_acc: 0.0345\n",
      "Epoch 96/100\n",
      "75/75 [==============================] - 0s 3ms/step - loss: 1.5364e-04 - acc: 0.0000e+00 - val_loss: 0.0011 - val_acc: 0.0345\n",
      "Epoch 97/100\n",
      "75/75 [==============================] - 0s 3ms/step - loss: 1.1242e-04 - acc: 0.0000e+00 - val_loss: 0.0011 - val_acc: 0.0345\n",
      "Epoch 98/100\n",
      "75/75 [==============================] - 0s 3ms/step - loss: 1.3647e-04 - acc: 0.0000e+00 - val_loss: 0.0016 - val_acc: 0.0345\n",
      "Epoch 99/100\n",
      "75/75 [==============================] - 0s 3ms/step - loss: 3.3320e-04 - acc: 0.0000e+00 - val_loss: 0.0030 - val_acc: 0.0345\n",
      "Epoch 100/100\n",
      "75/75 [==============================] - 0s 3ms/step - loss: 2.8867e-04 - acc: 0.0000e+00 - val_loss: 0.0033 - val_acc: 0.0345\n"
     ]
    },
    {
     "data": {
      "text/plain": [
       "<keras.src.callbacks.History at 0x267ce682350>"
      ]
     },
     "execution_count": 69,
     "metadata": {},
     "output_type": "execute_result"
    }
   ],
   "source": [
    "# Trains the model to the data\n",
    "# Since we use TimeSeriesGenerator from Keras we do not use model.fit(...) instead we use model.fit_generator(...)          !IMPORTANT!\n",
    "model.fit_generator(generator=train_generator, verbose=1, epochs=100, validation_data=validation_generator)\n",
    "\n",
    "# verbose: 0 = silent, 1 = progress bar, 2 = one line per epoch.\n"
   ]
  },
  {
   "cell_type": "code",
   "execution_count": 70,
   "metadata": {},
   "outputs": [
    {
     "name": "stdout",
     "output_type": "stream",
     "text": [
      "75/75 [==============================] - 0s 2ms/step\n",
      "29/29 [==============================] - 0s 2ms/step\n"
     ]
    }
   ],
   "source": [
    "# Makes predictions on training and testing data\n",
    "\n",
    "trainPredict = model.predict(train_generator)\n",
    "testPredict = model.predict(validation_generator)"
   ]
  },
  {
   "cell_type": "code",
   "execution_count": 71,
   "metadata": {},
   "outputs": [],
   "source": [
    "# Since data is normalized between 0 and 1, we need to reverse this transformation\n",
    "# use scaler.inverse_transform\n",
    "\n",
    "trainPredict = scaler.inverse_transform(trainPredict)\n",
    "trainY_inverse = scaler.inverse_transform(train)\n",
    "\n",
    "testPredict = scaler.inverse_transform(testPredict)\n",
    "testY_inverse = scaler.inverse_transform(test)"
   ]
  },
  {
   "cell_type": "code",
   "execution_count": 73,
   "metadata": {},
   "outputs": [
    {
     "name": "stdout",
     "output_type": "stream",
     "text": [
      "Train Score: 9.62 RMSE\n",
      "Test Score: 29.59 RMSE\n"
     ]
    }
   ],
   "source": [
    "# calculate root mean squared error\n",
    "trainScore = math.sqrt(mean_squared_error(trainY_inverse[seq_size:], trainPredict[:,0]))\n",
    "print('Train Score: %.2f RMSE' % (trainScore))\n",
    "\n",
    "testScore = math.sqrt(mean_squared_error(testY_inverse[seq_size:], testPredict[:,0]))\n",
    "print('Test Score: %.2f RMSE' % (testScore))"
   ]
  },
  {
   "cell_type": "code",
   "execution_count": 76,
   "metadata": {},
   "outputs": [
    {
     "data": {
      "text/plain": [
       "array([[      nan],\n",
       "       [      nan],\n",
       "       [      nan],\n",
       "       [      nan],\n",
       "       [      nan],\n",
       "       [      nan],\n",
       "       [      nan],\n",
       "       [      nan],\n",
       "       [      nan],\n",
       "       [      nan],\n",
       "       [      nan],\n",
       "       [      nan],\n",
       "       [      nan],\n",
       "       [      nan],\n",
       "       [      nan],\n",
       "       [      nan],\n",
       "       [      nan],\n",
       "       [      nan],\n",
       "       [      nan],\n",
       "       [      nan],\n",
       "       [160.89514],\n",
       "       [132.80498],\n",
       "       [119.48454],\n",
       "       [143.42241],\n",
       "       [153.42346],\n",
       "       [157.99745],\n",
       "       [179.01562],\n",
       "       [166.28726],\n",
       "       [174.81613],\n",
       "       [182.66695],\n",
       "       [203.60011],\n",
       "       [202.33736],\n",
       "       [189.99043],\n",
       "       [165.6377 ],\n",
       "       [146.84851],\n",
       "       [169.35225],\n",
       "       [173.80194],\n",
       "       [184.40948],\n",
       "       [198.409  ],\n",
       "       [191.0238 ],\n",
       "       [187.55302],\n",
       "       [219.77895],\n",
       "       [235.7548 ],\n",
       "       [240.48064],\n",
       "       [222.21472],\n",
       "       [191.65361],\n",
       "       [178.22302],\n",
       "       [195.40367],\n",
       "       [204.28452],\n",
       "       [203.95473],\n",
       "       [228.24348],\n",
       "       [226.8556 ],\n",
       "       [235.24084],\n",
       "       [256.7727 ],\n",
       "       [282.63812],\n",
       "       [279.7037 ],\n",
       "       [254.79836],\n",
       "       [217.11754],\n",
       "       [197.57082],\n",
       "       [210.1052 ],\n",
       "       [217.75424],\n",
       "       [205.47382],\n",
       "       [240.00502],\n",
       "       [236.90472],\n",
       "       [245.59901],\n",
       "       [277.17545],\n",
       "       [307.5559 ],\n",
       "       [307.815  ],\n",
       "       [271.69788],\n",
       "       [236.26738],\n",
       "       [211.15964],\n",
       "       [234.67319],\n",
       "       [245.39484],\n",
       "       [240.36334],\n",
       "       [278.40195],\n",
       "       [273.50766],\n",
       "       [280.1029 ],\n",
       "       [327.3997 ],\n",
       "       [363.0557 ],\n",
       "       [359.29123],\n",
       "       [316.4637 ],\n",
       "       [279.5016 ],\n",
       "       [248.88951],\n",
       "       [282.12897],\n",
       "       [295.61072],\n",
       "       [293.98398],\n",
       "       [321.5964 ],\n",
       "       [317.96997],\n",
       "       [330.89075],\n",
       "       [391.65244],\n",
       "       [432.67026],\n",
       "       [420.2588 ],\n",
       "       [372.37042],\n",
       "       [318.46503],\n",
       "       [285.11215],\n",
       "       [      nan],\n",
       "       [      nan],\n",
       "       [      nan],\n",
       "       [      nan],\n",
       "       [      nan],\n",
       "       [      nan],\n",
       "       [      nan],\n",
       "       [      nan],\n",
       "       [      nan],\n",
       "       [      nan],\n",
       "       [      nan],\n",
       "       [      nan],\n",
       "       [      nan],\n",
       "       [      nan],\n",
       "       [      nan],\n",
       "       [      nan],\n",
       "       [      nan],\n",
       "       [      nan],\n",
       "       [      nan],\n",
       "       [      nan],\n",
       "       [      nan],\n",
       "       [      nan],\n",
       "       [      nan],\n",
       "       [      nan],\n",
       "       [      nan],\n",
       "       [      nan],\n",
       "       [      nan],\n",
       "       [      nan],\n",
       "       [      nan],\n",
       "       [      nan],\n",
       "       [      nan],\n",
       "       [      nan],\n",
       "       [      nan],\n",
       "       [      nan],\n",
       "       [      nan],\n",
       "       [      nan],\n",
       "       [      nan],\n",
       "       [      nan],\n",
       "       [      nan],\n",
       "       [      nan],\n",
       "       [      nan],\n",
       "       [      nan],\n",
       "       [      nan],\n",
       "       [      nan],\n",
       "       [      nan],\n",
       "       [      nan],\n",
       "       [      nan],\n",
       "       [      nan],\n",
       "       [      nan]], dtype=float32)"
      ]
     },
     "execution_count": 76,
     "metadata": {},
     "output_type": "execute_result"
    }
   ],
   "source": [
    "# shift train predictions for plotting\n",
    "#we must shift the predictions so that they align on the x-axis with the original dataset. \n",
    "trainPredictPlot = np.empty_like(dataset)\n",
    "trainPredictPlot[:, :] = np.nan\n",
    "trainPredictPlot[seq_size:len(trainPredict)+seq_size, :] = trainPredict"
   ]
  },
  {
   "cell_type": "code",
   "execution_count": 77,
   "metadata": {},
   "outputs": [],
   "source": [
    "# shift test predictions for plotting\n",
    "testPredictPlot = np.empty_like(dataset)\n",
    "testPredictPlot[:, :] = np.nan\n",
    "#testPredictPlot[len(trainPredict)+(seq_size*2)-1:len(dataset)-1, :] = testPredict\n",
    "testPredictPlot[len(train)+(seq_size)-1:len(dataset)-1, :] = testPredict"
   ]
  },
  {
   "cell_type": "code",
   "execution_count": 80,
   "metadata": {},
   "outputs": [
    {
     "data": {
      "image/png": "[encoded data removed]",
      "text/plain": [
       "<Figure size 640x480 with 1 Axes>"
      ]
     },
     "metadata": {},
     "output_type": "display_data"
    }
   ],
   "source": [
    "# plot baseline and predictions\n",
    "plt.plot(scaler.inverse_transform(dataset))\n",
    "plt.plot(trainPredictPlot)\n",
    "plt.plot(testPredictPlot)\n",
    "plt.show()"
   ]
  }
 ],
 "metadata": {
  "kernelspec": {
   "display_name": "base",
   "language": "python",
   "name": "python3"
  },
  "language_info": {
   "codemirror_mode": {
    "name": "ipython",
    "version": 3
   },
   "file_extension": ".py",
   "mimetype": "text/x-python",
   "name": "python",
   "nbconvert_exporter": "python",
   "pygments_lexer": "ipython3",
   "version": "3.11.3"
  },
  "orig_nbformat": 4
 },
 "nbformat": 4,
 "nbformat_minor": 2
}
