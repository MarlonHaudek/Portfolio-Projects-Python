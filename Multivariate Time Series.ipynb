{
 "cells": [
  {
   "cell_type": "markdown",
   "metadata": {},
   "source": [
    "This program uses a feed forward neural network, which is settled in machine learning.\n"
   ]
  },
  {
   "cell_type": "code",
   "execution_count": 25,
   "metadata": {},
   "outputs": [
    {
     "data": {
      "text/plain": [
       "'\\n@author: Sreenivas Bhattiprolu\\n\\nCode tested on Tensorflow: 2.2.0\\n    Keras: 2.4.3\\n\\ndataset: https://finance.yahoo.com/quote/GE/history/\\nAlso try S&P: https://finance.yahoo.com/quote/%5EGSPC/history?p=%5EGSPC\\n'"
      ]
     },
     "execution_count": 25,
     "metadata": {},
     "output_type": "execute_result"
    }
   ],
   "source": [
    "# https://youtu.be/tepxdcepTbY\n",
    "\"\"\"\n",
    "@author: Sreenivas Bhattiprolu\n",
    "\n",
    "Code tested on Tensorflow: 2.2.0\n",
    "    Keras: 2.4.3\n",
    "\n",
    "dataset: https://finance.yahoo.com/quote/GE/history/\n",
    "Also try S&P: https://finance.yahoo.com/quote/%5EGSPC/history?p=%5EGSPC\n",
    "\"\"\""
   ]
  },
  {
   "cell_type": "code",
   "execution_count": 26,
   "metadata": {},
   "outputs": [],
   "source": [
    "import numpy as np\n",
    "from tensorflow.keras.models import Sequential\n",
    "from tensorflow.keras.layers import LSTM\n",
    "from tensorflow.keras.layers import Dense, Dropout\n",
    "import pandas as pd\n",
    "from matplotlib import pyplot as plt\n",
    "from sklearn.preprocessing import StandardScaler\n",
    "import seaborn as sns\n",
    "#from datetime import datetime\n",
    "\n",
    "import yfinance as yf"
   ]
  },
  {
   "cell_type": "markdown",
   "metadata": {},
   "source": [
    "# Data Preparation"
   ]
  },
  {
   "cell_type": "code",
   "execution_count": 27,
   "metadata": {},
   "outputs": [
    {
     "data": {
      "text/html": [
       "<div>\n",
       "<style scoped>\n",
       "    .dataframe tbody tr th:only-of-type {\n",
       "        vertical-align: middle;\n",
       "    }\n",
       "\n",
       "    .dataframe tbody tr th {\n",
       "        vertical-align: top;\n",
       "    }\n",
       "\n",
       "    .dataframe thead th {\n",
       "        text-align: right;\n",
       "    }\n",
       "</style>\n",
       "<table border=\"1\" class=\"dataframe\">\n",
       "  <thead>\n",
       "    <tr style=\"text-align: right;\">\n",
       "      <th></th>\n",
       "      <th>Open</th>\n",
       "      <th>High</th>\n",
       "      <th>Low</th>\n",
       "      <th>Close</th>\n",
       "      <th>Adj Close</th>\n",
       "      <th>Volume</th>\n",
       "    </tr>\n",
       "    <tr>\n",
       "      <th>Date</th>\n",
       "      <th></th>\n",
       "      <th></th>\n",
       "      <th></th>\n",
       "      <th></th>\n",
       "      <th></th>\n",
       "      <th></th>\n",
       "    </tr>\n",
       "  </thead>\n",
       "  <tbody>\n",
       "    <tr>\n",
       "      <th>2019-01-02</th>\n",
       "      <td>2476.959961</td>\n",
       "      <td>2519.489990</td>\n",
       "      <td>2467.469971</td>\n",
       "      <td>2510.030029</td>\n",
       "      <td>2510.030029</td>\n",
       "      <td>3733160000</td>\n",
       "    </tr>\n",
       "    <tr>\n",
       "      <th>2019-01-03</th>\n",
       "      <td>2491.919922</td>\n",
       "      <td>2493.139893</td>\n",
       "      <td>2443.959961</td>\n",
       "      <td>2447.889893</td>\n",
       "      <td>2447.889893</td>\n",
       "      <td>3858830000</td>\n",
       "    </tr>\n",
       "    <tr>\n",
       "      <th>2019-01-04</th>\n",
       "      <td>2474.330078</td>\n",
       "      <td>2538.070068</td>\n",
       "      <td>2474.330078</td>\n",
       "      <td>2531.939941</td>\n",
       "      <td>2531.939941</td>\n",
       "      <td>4234140000</td>\n",
       "    </tr>\n",
       "    <tr>\n",
       "      <th>2019-01-07</th>\n",
       "      <td>2535.610107</td>\n",
       "      <td>2566.159912</td>\n",
       "      <td>2524.560059</td>\n",
       "      <td>2549.689941</td>\n",
       "      <td>2549.689941</td>\n",
       "      <td>4133120000</td>\n",
       "    </tr>\n",
       "    <tr>\n",
       "      <th>2019-01-08</th>\n",
       "      <td>2568.110107</td>\n",
       "      <td>2579.820068</td>\n",
       "      <td>2547.560059</td>\n",
       "      <td>2574.409912</td>\n",
       "      <td>2574.409912</td>\n",
       "      <td>4120060000</td>\n",
       "    </tr>\n",
       "    <tr>\n",
       "      <th>...</th>\n",
       "      <td>...</td>\n",
       "      <td>...</td>\n",
       "      <td>...</td>\n",
       "      <td>...</td>\n",
       "      <td>...</td>\n",
       "      <td>...</td>\n",
       "    </tr>\n",
       "    <tr>\n",
       "      <th>2022-12-23</th>\n",
       "      <td>3815.110107</td>\n",
       "      <td>3845.800049</td>\n",
       "      <td>3797.010010</td>\n",
       "      <td>3844.820068</td>\n",
       "      <td>3844.820068</td>\n",
       "      <td>2819280000</td>\n",
       "    </tr>\n",
       "    <tr>\n",
       "      <th>2022-12-27</th>\n",
       "      <td>3843.340088</td>\n",
       "      <td>3846.649902</td>\n",
       "      <td>3813.219971</td>\n",
       "      <td>3829.250000</td>\n",
       "      <td>3829.250000</td>\n",
       "      <td>3030300000</td>\n",
       "    </tr>\n",
       "    <tr>\n",
       "      <th>2022-12-28</th>\n",
       "      <td>3829.560059</td>\n",
       "      <td>3848.320068</td>\n",
       "      <td>3780.780029</td>\n",
       "      <td>3783.219971</td>\n",
       "      <td>3783.219971</td>\n",
       "      <td>3083520000</td>\n",
       "    </tr>\n",
       "    <tr>\n",
       "      <th>2022-12-29</th>\n",
       "      <td>3805.449951</td>\n",
       "      <td>3858.189941</td>\n",
       "      <td>3805.449951</td>\n",
       "      <td>3849.280029</td>\n",
       "      <td>3849.280029</td>\n",
       "      <td>3003680000</td>\n",
       "    </tr>\n",
       "    <tr>\n",
       "      <th>2022-12-30</th>\n",
       "      <td>3829.060059</td>\n",
       "      <td>3839.850098</td>\n",
       "      <td>3800.340088</td>\n",
       "      <td>3839.500000</td>\n",
       "      <td>3839.500000</td>\n",
       "      <td>2979870000</td>\n",
       "    </tr>\n",
       "  </tbody>\n",
       "</table>\n",
       "<p>1008 rows × 6 columns</p>\n",
       "</div>"
      ],
      "text/plain": [
       "                   Open         High          Low        Close    Adj Close  \\\n",
       "Date                                                                          \n",
       "2019-01-02  2476.959961  2519.489990  2467.469971  2510.030029  2510.030029   \n",
       "2019-01-03  2491.919922  2493.139893  2443.959961  2447.889893  2447.889893   \n",
       "2019-01-04  2474.330078  2538.070068  2474.330078  2531.939941  2531.939941   \n",
       "2019-01-07  2535.610107  2566.159912  2524.560059  2549.689941  2549.689941   \n",
       "2019-01-08  2568.110107  2579.820068  2547.560059  2574.409912  2574.409912   \n",
       "...                 ...          ...          ...          ...          ...   \n",
       "2022-12-23  3815.110107  3845.800049  3797.010010  3844.820068  3844.820068   \n",
       "2022-12-27  3843.340088  3846.649902  3813.219971  3829.250000  3829.250000   \n",
       "2022-12-28  3829.560059  3848.320068  3780.780029  3783.219971  3783.219971   \n",
       "2022-12-29  3805.449951  3858.189941  3805.449951  3849.280029  3849.280029   \n",
       "2022-12-30  3829.060059  3839.850098  3800.340088  3839.500000  3839.500000   \n",
       "\n",
       "                Volume  \n",
       "Date                    \n",
       "2019-01-02  3733160000  \n",
       "2019-01-03  3858830000  \n",
       "2019-01-04  4234140000  \n",
       "2019-01-07  4133120000  \n",
       "2019-01-08  4120060000  \n",
       "...                ...  \n",
       "2022-12-23  2819280000  \n",
       "2022-12-27  3030300000  \n",
       "2022-12-28  3083520000  \n",
       "2022-12-29  3003680000  \n",
       "2022-12-30  2979870000  \n",
       "\n",
       "[1008 rows x 6 columns]"
      ]
     },
     "execution_count": 27,
     "metadata": {},
     "output_type": "execute_result"
    }
   ],
   "source": [
    "dataframe = yf.download('^GSPC', start='2019-01-01', end='2022-12-31',interval='1d', progress=False)\n",
    "dataframe"
   ]
  },
  {
   "cell_type": "code",
   "execution_count": 28,
   "metadata": {},
   "outputs": [
    {
     "data": {
      "text/html": [
       "<div>\n",
       "<style scoped>\n",
       "    .dataframe tbody tr th:only-of-type {\n",
       "        vertical-align: middle;\n",
       "    }\n",
       "\n",
       "    .dataframe tbody tr th {\n",
       "        vertical-align: top;\n",
       "    }\n",
       "\n",
       "    .dataframe thead th {\n",
       "        text-align: right;\n",
       "    }\n",
       "</style>\n",
       "<table border=\"1\" class=\"dataframe\">\n",
       "  <thead>\n",
       "    <tr style=\"text-align: right;\">\n",
       "      <th></th>\n",
       "      <th>Open</th>\n",
       "      <th>High</th>\n",
       "      <th>Low</th>\n",
       "      <th>Close</th>\n",
       "      <th>Adj Close</th>\n",
       "    </tr>\n",
       "    <tr>\n",
       "      <th>Date</th>\n",
       "      <th></th>\n",
       "      <th></th>\n",
       "      <th></th>\n",
       "      <th></th>\n",
       "      <th></th>\n",
       "    </tr>\n",
       "  </thead>\n",
       "  <tbody>\n",
       "    <tr>\n",
       "      <th>2019-01-02</th>\n",
       "      <td>2476.959961</td>\n",
       "      <td>2519.489990</td>\n",
       "      <td>2467.469971</td>\n",
       "      <td>2510.030029</td>\n",
       "      <td>2510.030029</td>\n",
       "    </tr>\n",
       "    <tr>\n",
       "      <th>2019-01-03</th>\n",
       "      <td>2491.919922</td>\n",
       "      <td>2493.139893</td>\n",
       "      <td>2443.959961</td>\n",
       "      <td>2447.889893</td>\n",
       "      <td>2447.889893</td>\n",
       "    </tr>\n",
       "    <tr>\n",
       "      <th>2019-01-04</th>\n",
       "      <td>2474.330078</td>\n",
       "      <td>2538.070068</td>\n",
       "      <td>2474.330078</td>\n",
       "      <td>2531.939941</td>\n",
       "      <td>2531.939941</td>\n",
       "    </tr>\n",
       "    <tr>\n",
       "      <th>2019-01-07</th>\n",
       "      <td>2535.610107</td>\n",
       "      <td>2566.159912</td>\n",
       "      <td>2524.560059</td>\n",
       "      <td>2549.689941</td>\n",
       "      <td>2549.689941</td>\n",
       "    </tr>\n",
       "    <tr>\n",
       "      <th>2019-01-08</th>\n",
       "      <td>2568.110107</td>\n",
       "      <td>2579.820068</td>\n",
       "      <td>2547.560059</td>\n",
       "      <td>2574.409912</td>\n",
       "      <td>2574.409912</td>\n",
       "    </tr>\n",
       "    <tr>\n",
       "      <th>...</th>\n",
       "      <td>...</td>\n",
       "      <td>...</td>\n",
       "      <td>...</td>\n",
       "      <td>...</td>\n",
       "      <td>...</td>\n",
       "    </tr>\n",
       "    <tr>\n",
       "      <th>2022-12-23</th>\n",
       "      <td>3815.110107</td>\n",
       "      <td>3845.800049</td>\n",
       "      <td>3797.010010</td>\n",
       "      <td>3844.820068</td>\n",
       "      <td>3844.820068</td>\n",
       "    </tr>\n",
       "    <tr>\n",
       "      <th>2022-12-27</th>\n",
       "      <td>3843.340088</td>\n",
       "      <td>3846.649902</td>\n",
       "      <td>3813.219971</td>\n",
       "      <td>3829.250000</td>\n",
       "      <td>3829.250000</td>\n",
       "    </tr>\n",
       "    <tr>\n",
       "      <th>2022-12-28</th>\n",
       "      <td>3829.560059</td>\n",
       "      <td>3848.320068</td>\n",
       "      <td>3780.780029</td>\n",
       "      <td>3783.219971</td>\n",
       "      <td>3783.219971</td>\n",
       "    </tr>\n",
       "    <tr>\n",
       "      <th>2022-12-29</th>\n",
       "      <td>3805.449951</td>\n",
       "      <td>3858.189941</td>\n",
       "      <td>3805.449951</td>\n",
       "      <td>3849.280029</td>\n",
       "      <td>3849.280029</td>\n",
       "    </tr>\n",
       "    <tr>\n",
       "      <th>2022-12-30</th>\n",
       "      <td>3829.060059</td>\n",
       "      <td>3839.850098</td>\n",
       "      <td>3800.340088</td>\n",
       "      <td>3839.500000</td>\n",
       "      <td>3839.500000</td>\n",
       "    </tr>\n",
       "  </tbody>\n",
       "</table>\n",
       "<p>1008 rows × 5 columns</p>\n",
       "</div>"
      ],
      "text/plain": [
       "                   Open         High          Low        Close    Adj Close\n",
       "Date                                                                       \n",
       "2019-01-02  2476.959961  2519.489990  2467.469971  2510.030029  2510.030029\n",
       "2019-01-03  2491.919922  2493.139893  2443.959961  2447.889893  2447.889893\n",
       "2019-01-04  2474.330078  2538.070068  2474.330078  2531.939941  2531.939941\n",
       "2019-01-07  2535.610107  2566.159912  2524.560059  2549.689941  2549.689941\n",
       "2019-01-08  2568.110107  2579.820068  2547.560059  2574.409912  2574.409912\n",
       "...                 ...          ...          ...          ...          ...\n",
       "2022-12-23  3815.110107  3845.800049  3797.010010  3844.820068  3844.820068\n",
       "2022-12-27  3843.340088  3846.649902  3813.219971  3829.250000  3829.250000\n",
       "2022-12-28  3829.560059  3848.320068  3780.780029  3783.219971  3783.219971\n",
       "2022-12-29  3805.449951  3858.189941  3805.449951  3849.280029  3849.280029\n",
       "2022-12-30  3829.060059  3839.850098  3800.340088  3839.500000  3839.500000\n",
       "\n",
       "[1008 rows x 5 columns]"
      ]
     },
     "execution_count": 28,
     "metadata": {},
     "output_type": "execute_result"
    }
   ],
   "source": [
    "# Drops out volume from DataFrame\n",
    "dataframe = dataframe.iloc[: ,:-1]\n",
    "dataframe"
   ]
  },
  {
   "cell_type": "code",
   "execution_count": 29,
   "metadata": {},
   "outputs": [
    {
     "data": {
      "text/plain": [
       "[<matplotlib.lines.Line2D at 0x1f676cc91d0>,\n",
       " <matplotlib.lines.Line2D at 0x1f663c2dc50>,\n",
       " <matplotlib.lines.Line2D at 0x1f67487a490>,\n",
       " <matplotlib.lines.Line2D at 0x1f676cc98d0>,\n",
       " <matplotlib.lines.Line2D at 0x1f673f5a010>]"
      ]
     },
     "execution_count": 29,
     "metadata": {},
     "output_type": "execute_result"
    },
    {
     "data": {
      "image/png": "[encoded data removed]",
      "text/plain": [
       "<Figure size 640x480 with 1 Axes>"
      ]
     },
     "metadata": {},
     "output_type": "display_data"
    }
   ],
   "source": [
    "# Plot data\n",
    "plt.plot(dataframe)"
   ]
  },
  {
   "cell_type": "markdown",
   "metadata": {},
   "source": [
    "# Data Exploration"
   ]
  },
  {
   "cell_type": "code",
   "execution_count": null,
   "metadata": {},
   "outputs": [],
   "source": [
    "dataframe['year'] = dataframe.index.year\n",
    "dataframe['month'] = dataframe.index.month"
   ]
  },
  {
   "cell_type": "code",
   "execution_count": null,
   "metadata": {},
   "outputs": [],
   "source": [
    "dataframe"
   ]
  },
  {
   "cell_type": "code",
   "execution_count": null,
   "metadata": {},
   "outputs": [],
   "source": [
    "dataframe_new"
   ]
  },
  {
   "cell_type": "code",
   "execution_count": 30,
   "metadata": {},
   "outputs": [],
   "source": [
    "data_dic = {'Date': dataframe.index, 'Close': dataframe['Close']}"
   ]
  },
  {
   "cell_type": "code",
   "execution_count": 31,
   "metadata": {},
   "outputs": [],
   "source": [
    "dataframe_new_2 = pd.DataFrame(data_dic)"
   ]
  },
  {
   "cell_type": "code",
   "execution_count": 32,
   "metadata": {},
   "outputs": [
    {
     "data": {
      "text/html": [
       "<div>\n",
       "<style scoped>\n",
       "    .dataframe tbody tr th:only-of-type {\n",
       "        vertical-align: middle;\n",
       "    }\n",
       "\n",
       "    .dataframe tbody tr th {\n",
       "        vertical-align: top;\n",
       "    }\n",
       "\n",
       "    .dataframe thead th {\n",
       "        text-align: right;\n",
       "    }\n",
       "</style>\n",
       "<table border=\"1\" class=\"dataframe\">\n",
       "  <thead>\n",
       "    <tr style=\"text-align: right;\">\n",
       "      <th></th>\n",
       "      <th>Date</th>\n",
       "      <th>Close</th>\n",
       "    </tr>\n",
       "    <tr>\n",
       "      <th>Date</th>\n",
       "      <th></th>\n",
       "      <th></th>\n",
       "    </tr>\n",
       "  </thead>\n",
       "  <tbody>\n",
       "    <tr>\n",
       "      <th>2019-01-02</th>\n",
       "      <td>2019-01-02</td>\n",
       "      <td>2510.030029</td>\n",
       "    </tr>\n",
       "    <tr>\n",
       "      <th>2019-01-03</th>\n",
       "      <td>2019-01-03</td>\n",
       "      <td>2447.889893</td>\n",
       "    </tr>\n",
       "    <tr>\n",
       "      <th>2019-01-04</th>\n",
       "      <td>2019-01-04</td>\n",
       "      <td>2531.939941</td>\n",
       "    </tr>\n",
       "    <tr>\n",
       "      <th>2019-01-07</th>\n",
       "      <td>2019-01-07</td>\n",
       "      <td>2549.689941</td>\n",
       "    </tr>\n",
       "    <tr>\n",
       "      <th>2019-01-08</th>\n",
       "      <td>2019-01-08</td>\n",
       "      <td>2574.409912</td>\n",
       "    </tr>\n",
       "    <tr>\n",
       "      <th>...</th>\n",
       "      <td>...</td>\n",
       "      <td>...</td>\n",
       "    </tr>\n",
       "    <tr>\n",
       "      <th>2022-12-23</th>\n",
       "      <td>2022-12-23</td>\n",
       "      <td>3844.820068</td>\n",
       "    </tr>\n",
       "    <tr>\n",
       "      <th>2022-12-27</th>\n",
       "      <td>2022-12-27</td>\n",
       "      <td>3829.250000</td>\n",
       "    </tr>\n",
       "    <tr>\n",
       "      <th>2022-12-28</th>\n",
       "      <td>2022-12-28</td>\n",
       "      <td>3783.219971</td>\n",
       "    </tr>\n",
       "    <tr>\n",
       "      <th>2022-12-29</th>\n",
       "      <td>2022-12-29</td>\n",
       "      <td>3849.280029</td>\n",
       "    </tr>\n",
       "    <tr>\n",
       "      <th>2022-12-30</th>\n",
       "      <td>2022-12-30</td>\n",
       "      <td>3839.500000</td>\n",
       "    </tr>\n",
       "  </tbody>\n",
       "</table>\n",
       "<p>1008 rows × 2 columns</p>\n",
       "</div>"
      ],
      "text/plain": [
       "                 Date        Close\n",
       "Date                              \n",
       "2019-01-02 2019-01-02  2510.030029\n",
       "2019-01-03 2019-01-03  2447.889893\n",
       "2019-01-04 2019-01-04  2531.939941\n",
       "2019-01-07 2019-01-07  2549.689941\n",
       "2019-01-08 2019-01-08  2574.409912\n",
       "...               ...          ...\n",
       "2022-12-23 2022-12-23  3844.820068\n",
       "2022-12-27 2022-12-27  3829.250000\n",
       "2022-12-28 2022-12-28  3783.219971\n",
       "2022-12-29 2022-12-29  3849.280029\n",
       "2022-12-30 2022-12-30  3839.500000\n",
       "\n",
       "[1008 rows x 2 columns]"
      ]
     },
     "execution_count": 32,
     "metadata": {},
     "output_type": "execute_result"
    }
   ],
   "source": [
    "dataframe_new_2"
   ]
  },
  {
   "cell_type": "code",
   "execution_count": 37,
   "metadata": {},
   "outputs": [],
   "source": [
    "dataframe_new_2['Date'] = pd.to_datetime(dataframe_new_2['Date'])"
   ]
  },
  {
   "cell_type": "code",
   "execution_count": 40,
   "metadata": {},
   "outputs": [],
   "source": [
    "dataframe_new_2.set_index('Date', inplace=True)"
   ]
  },
  {
   "cell_type": "code",
   "execution_count": 41,
   "metadata": {},
   "outputs": [
    {
     "data": {
      "text/plain": [
       "[<matplotlib.lines.Line2D at 0x1f676d56850>]"
      ]
     },
     "execution_count": 41,
     "metadata": {},
     "output_type": "execute_result"
    },
    {
     "data": {
      "image/png": "[encoded data removed]",
      "text/plain": [
       "<Figure size 640x480 with 1 Axes>"
      ]
     },
     "metadata": {},
     "output_type": "display_data"
    }
   ],
   "source": [
    "plt.plot(dataframe_new_2)"
   ]
  },
  {
   "cell_type": "code",
   "execution_count": 42,
   "metadata": {},
   "outputs": [],
   "source": [
    "# Extracts year and month from date\n",
    "dataframe_new_2['year'] = dataframe_new_2.index.year\n",
    "dataframe_new_2['month'] = dataframe_new_2.index.month"
   ]
  },
  {
   "cell_type": "code",
   "execution_count": 43,
   "metadata": {},
   "outputs": [
    {
     "data": {
      "text/html": [
       "<div>\n",
       "<style scoped>\n",
       "    .dataframe tbody tr th:only-of-type {\n",
       "        vertical-align: middle;\n",
       "    }\n",
       "\n",
       "    .dataframe tbody tr th {\n",
       "        vertical-align: top;\n",
       "    }\n",
       "\n",
       "    .dataframe thead th {\n",
       "        text-align: right;\n",
       "    }\n",
       "</style>\n",
       "<table border=\"1\" class=\"dataframe\">\n",
       "  <thead>\n",
       "    <tr style=\"text-align: right;\">\n",
       "      <th></th>\n",
       "      <th>Close</th>\n",
       "      <th>year</th>\n",
       "      <th>month</th>\n",
       "    </tr>\n",
       "    <tr>\n",
       "      <th>Date</th>\n",
       "      <th></th>\n",
       "      <th></th>\n",
       "      <th></th>\n",
       "    </tr>\n",
       "  </thead>\n",
       "  <tbody>\n",
       "    <tr>\n",
       "      <th>2019-01-02</th>\n",
       "      <td>2510.030029</td>\n",
       "      <td>2019</td>\n",
       "      <td>1</td>\n",
       "    </tr>\n",
       "    <tr>\n",
       "      <th>2019-01-03</th>\n",
       "      <td>2447.889893</td>\n",
       "      <td>2019</td>\n",
       "      <td>1</td>\n",
       "    </tr>\n",
       "    <tr>\n",
       "      <th>2019-01-04</th>\n",
       "      <td>2531.939941</td>\n",
       "      <td>2019</td>\n",
       "      <td>1</td>\n",
       "    </tr>\n",
       "    <tr>\n",
       "      <th>2019-01-07</th>\n",
       "      <td>2549.689941</td>\n",
       "      <td>2019</td>\n",
       "      <td>1</td>\n",
       "    </tr>\n",
       "    <tr>\n",
       "      <th>2019-01-08</th>\n",
       "      <td>2574.409912</td>\n",
       "      <td>2019</td>\n",
       "      <td>1</td>\n",
       "    </tr>\n",
       "    <tr>\n",
       "      <th>...</th>\n",
       "      <td>...</td>\n",
       "      <td>...</td>\n",
       "      <td>...</td>\n",
       "    </tr>\n",
       "    <tr>\n",
       "      <th>2022-12-23</th>\n",
       "      <td>3844.820068</td>\n",
       "      <td>2022</td>\n",
       "      <td>12</td>\n",
       "    </tr>\n",
       "    <tr>\n",
       "      <th>2022-12-27</th>\n",
       "      <td>3829.250000</td>\n",
       "      <td>2022</td>\n",
       "      <td>12</td>\n",
       "    </tr>\n",
       "    <tr>\n",
       "      <th>2022-12-28</th>\n",
       "      <td>3783.219971</td>\n",
       "      <td>2022</td>\n",
       "      <td>12</td>\n",
       "    </tr>\n",
       "    <tr>\n",
       "      <th>2022-12-29</th>\n",
       "      <td>3849.280029</td>\n",
       "      <td>2022</td>\n",
       "      <td>12</td>\n",
       "    </tr>\n",
       "    <tr>\n",
       "      <th>2022-12-30</th>\n",
       "      <td>3839.500000</td>\n",
       "      <td>2022</td>\n",
       "      <td>12</td>\n",
       "    </tr>\n",
       "  </tbody>\n",
       "</table>\n",
       "<p>1008 rows × 3 columns</p>\n",
       "</div>"
      ],
      "text/plain": [
       "                  Close  year  month\n",
       "Date                                \n",
       "2019-01-02  2510.030029  2019      1\n",
       "2019-01-03  2447.889893  2019      1\n",
       "2019-01-04  2531.939941  2019      1\n",
       "2019-01-07  2549.689941  2019      1\n",
       "2019-01-08  2574.409912  2019      1\n",
       "...                 ...   ...    ...\n",
       "2022-12-23  3844.820068  2022     12\n",
       "2022-12-27  3829.250000  2022     12\n",
       "2022-12-28  3783.219971  2022     12\n",
       "2022-12-29  3849.280029  2022     12\n",
       "2022-12-30  3839.500000  2022     12\n",
       "\n",
       "[1008 rows x 3 columns]"
      ]
     },
     "execution_count": 43,
     "metadata": {},
     "output_type": "execute_result"
    }
   ],
   "source": [
    "dataframe_new_2"
   ]
  },
  {
   "cell_type": "code",
   "execution_count": 44,
   "metadata": {},
   "outputs": [
    {
     "data": {
      "text/plain": [
       "<Axes: xlabel='year', ylabel='Close'>"
      ]
     },
     "execution_count": 44,
     "metadata": {},
     "output_type": "execute_result"
    },
    {
     "data": {
      "image/png": "[encoded data removed]",
      "text/plain": [
       "<Figure size 640x480 with 1 Axes>"
      ]
     },
     "metadata": {},
     "output_type": "display_data"
    }
   ],
   "source": [
    "#Plot yearly and monthly values as boxplot\n",
    "sns.boxplot(x='year', y='Close', data=dataframe_new_2)"
   ]
  },
  {
   "cell_type": "code",
   "execution_count": 45,
   "metadata": {},
   "outputs": [
    {
     "data": {
      "text/plain": [
       "<Axes: xlabel='month', ylabel='Close'>"
      ]
     },
     "execution_count": 45,
     "metadata": {},
     "output_type": "execute_result"
    },
    {
     "data": {
      "image/png": "[encoded data removed]",
      "text/plain": [
       "<Figure size 640x480 with 1 Axes>"
      ]
     },
     "metadata": {},
     "output_type": "display_data"
    }
   ],
   "source": [
    "sns.boxplot(x='month', y='Close', data=dataframe_new_2)"
   ]
  },
  {
   "cell_type": "code",
   "execution_count": null,
   "metadata": {},
   "outputs": [],
   "source": [
    "# Since time series data is commonly only correlated with nothing but itself,\n",
    "# it is interesting to detect the degreee of autocorrelation for the dataset\n",
    "\n",
    "\"\"\"\"\n",
    "Autocorrelation is simply the correlation of a series with its own lags.\n",
    "Plot lag on x axis and correlation on y axis\n",
    "Any correlation above confidence lnes are statistically significant.\n",
    "\n",
    "\"\"\""
   ]
  },
  {
   "cell_type": "code",
   "execution_count": 60,
   "metadata": {},
   "outputs": [
    {
     "data": {
      "text/plain": [
       "<Axes: xlabel='Lag', ylabel='Autocorrelation'>"
      ]
     },
     "execution_count": 60,
     "metadata": {},
     "output_type": "execute_result"
    },
    {
     "data": {
      "image/png": "[encoded data removed]",
      "text/plain": [
       "<Figure size 640x480 with 1 Axes>"
      ]
     },
     "metadata": {},
     "output_type": "display_data"
    }
   ],
   "source": [
    "# Detect autocorrelation with pandas module\n",
    "#Obtain the same but with single line and more info...\n",
    "from pandas.plotting import autocorrelation_plot\n",
    "autocorrelation_plot(dataframe_new_2.Close) \n",
    "#Horizontal bands indicate 95% and 99% (dashed) confidence bands"
   ]
  },
  {
   "cell_type": "code",
   "execution_count": null,
   "metadata": {},
   "outputs": [],
   "source": [
    "# In the graph one can see, that for smaller lags than 40 there is a 99% confidence of positive autocorrelation"
   ]
  },
  {
   "cell_type": "markdown",
   "metadata": {},
   "source": [
    "# LSTM for multivariate Case"
   ]
  },
  {
   "cell_type": "code",
   "execution_count": 61,
   "metadata": {},
   "outputs": [],
   "source": [
    "# Copies dataframe into new one for syntax purposes\n",
    "df = dataframe.copy()"
   ]
  },
  {
   "cell_type": "code",
   "execution_count": 62,
   "metadata": {},
   "outputs": [
    {
     "data": {
      "text/html": [
       "<div>\n",
       "<style scoped>\n",
       "    .dataframe tbody tr th:only-of-type {\n",
       "        vertical-align: middle;\n",
       "    }\n",
       "\n",
       "    .dataframe tbody tr th {\n",
       "        vertical-align: top;\n",
       "    }\n",
       "\n",
       "    .dataframe thead th {\n",
       "        text-align: right;\n",
       "    }\n",
       "</style>\n",
       "<table border=\"1\" class=\"dataframe\">\n",
       "  <thead>\n",
       "    <tr style=\"text-align: right;\">\n",
       "      <th></th>\n",
       "      <th>Open</th>\n",
       "      <th>High</th>\n",
       "      <th>Low</th>\n",
       "      <th>Close</th>\n",
       "      <th>Adj Close</th>\n",
       "    </tr>\n",
       "    <tr>\n",
       "      <th>Date</th>\n",
       "      <th></th>\n",
       "      <th></th>\n",
       "      <th></th>\n",
       "      <th></th>\n",
       "      <th></th>\n",
       "    </tr>\n",
       "  </thead>\n",
       "  <tbody>\n",
       "    <tr>\n",
       "      <th>2019-01-02</th>\n",
       "      <td>2476.959961</td>\n",
       "      <td>2519.489990</td>\n",
       "      <td>2467.469971</td>\n",
       "      <td>2510.030029</td>\n",
       "      <td>2510.030029</td>\n",
       "    </tr>\n",
       "    <tr>\n",
       "      <th>2019-01-03</th>\n",
       "      <td>2491.919922</td>\n",
       "      <td>2493.139893</td>\n",
       "      <td>2443.959961</td>\n",
       "      <td>2447.889893</td>\n",
       "      <td>2447.889893</td>\n",
       "    </tr>\n",
       "    <tr>\n",
       "      <th>2019-01-04</th>\n",
       "      <td>2474.330078</td>\n",
       "      <td>2538.070068</td>\n",
       "      <td>2474.330078</td>\n",
       "      <td>2531.939941</td>\n",
       "      <td>2531.939941</td>\n",
       "    </tr>\n",
       "    <tr>\n",
       "      <th>2019-01-07</th>\n",
       "      <td>2535.610107</td>\n",
       "      <td>2566.159912</td>\n",
       "      <td>2524.560059</td>\n",
       "      <td>2549.689941</td>\n",
       "      <td>2549.689941</td>\n",
       "    </tr>\n",
       "    <tr>\n",
       "      <th>2019-01-08</th>\n",
       "      <td>2568.110107</td>\n",
       "      <td>2579.820068</td>\n",
       "      <td>2547.560059</td>\n",
       "      <td>2574.409912</td>\n",
       "      <td>2574.409912</td>\n",
       "    </tr>\n",
       "    <tr>\n",
       "      <th>...</th>\n",
       "      <td>...</td>\n",
       "      <td>...</td>\n",
       "      <td>...</td>\n",
       "      <td>...</td>\n",
       "      <td>...</td>\n",
       "    </tr>\n",
       "    <tr>\n",
       "      <th>2022-12-23</th>\n",
       "      <td>3815.110107</td>\n",
       "      <td>3845.800049</td>\n",
       "      <td>3797.010010</td>\n",
       "      <td>3844.820068</td>\n",
       "      <td>3844.820068</td>\n",
       "    </tr>\n",
       "    <tr>\n",
       "      <th>2022-12-27</th>\n",
       "      <td>3843.340088</td>\n",
       "      <td>3846.649902</td>\n",
       "      <td>3813.219971</td>\n",
       "      <td>3829.250000</td>\n",
       "      <td>3829.250000</td>\n",
       "    </tr>\n",
       "    <tr>\n",
       "      <th>2022-12-28</th>\n",
       "      <td>3829.560059</td>\n",
       "      <td>3848.320068</td>\n",
       "      <td>3780.780029</td>\n",
       "      <td>3783.219971</td>\n",
       "      <td>3783.219971</td>\n",
       "    </tr>\n",
       "    <tr>\n",
       "      <th>2022-12-29</th>\n",
       "      <td>3805.449951</td>\n",
       "      <td>3858.189941</td>\n",
       "      <td>3805.449951</td>\n",
       "      <td>3849.280029</td>\n",
       "      <td>3849.280029</td>\n",
       "    </tr>\n",
       "    <tr>\n",
       "      <th>2022-12-30</th>\n",
       "      <td>3829.060059</td>\n",
       "      <td>3839.850098</td>\n",
       "      <td>3800.340088</td>\n",
       "      <td>3839.500000</td>\n",
       "      <td>3839.500000</td>\n",
       "    </tr>\n",
       "  </tbody>\n",
       "</table>\n",
       "<p>1008 rows × 5 columns</p>\n",
       "</div>"
      ],
      "text/plain": [
       "                   Open         High          Low        Close    Adj Close\n",
       "Date                                                                       \n",
       "2019-01-02  2476.959961  2519.489990  2467.469971  2510.030029  2510.030029\n",
       "2019-01-03  2491.919922  2493.139893  2443.959961  2447.889893  2447.889893\n",
       "2019-01-04  2474.330078  2538.070068  2474.330078  2531.939941  2531.939941\n",
       "2019-01-07  2535.610107  2566.159912  2524.560059  2549.689941  2549.689941\n",
       "2019-01-08  2568.110107  2579.820068  2547.560059  2574.409912  2574.409912\n",
       "...                 ...          ...          ...          ...          ...\n",
       "2022-12-23  3815.110107  3845.800049  3797.010010  3844.820068  3844.820068\n",
       "2022-12-27  3843.340088  3846.649902  3813.219971  3829.250000  3829.250000\n",
       "2022-12-28  3829.560059  3848.320068  3780.780029  3783.219971  3783.219971\n",
       "2022-12-29  3805.449951  3858.189941  3805.449951  3849.280029  3849.280029\n",
       "2022-12-30  3829.060059  3839.850098  3800.340088  3839.500000  3839.500000\n",
       "\n",
       "[1008 rows x 5 columns]"
      ]
     },
     "execution_count": 62,
     "metadata": {},
     "output_type": "execute_result"
    }
   ],
   "source": [
    "df"
   ]
  },
  {
   "cell_type": "code",
   "execution_count": 101,
   "metadata": {},
   "outputs": [
    {
     "data": {
      "text/plain": [
       "(1008,)"
      ]
     },
     "execution_count": 101,
     "metadata": {},
     "output_type": "execute_result"
    }
   ],
   "source": [
    "train_dates = df.index\n",
    "train_dates.shape"
   ]
  },
  {
   "cell_type": "code",
   "execution_count": 67,
   "metadata": {},
   "outputs": [
    {
     "data": {
      "text/plain": [
       "['Open', 'High', 'Low', 'Close']"
      ]
     },
     "execution_count": 67,
     "metadata": {},
     "output_type": "execute_result"
    }
   ],
   "source": [
    "#Variables for training (Open, High, Low, Close)\n",
    "cols = list(df)[0:4]\n",
    "cols"
   ]
  },
  {
   "cell_type": "code",
   "execution_count": 99,
   "metadata": {},
   "outputs": [
    {
     "data": {
      "text/html": [
       "<div>\n",
       "<style scoped>\n",
       "    .dataframe tbody tr th:only-of-type {\n",
       "        vertical-align: middle;\n",
       "    }\n",
       "\n",
       "    .dataframe tbody tr th {\n",
       "        vertical-align: top;\n",
       "    }\n",
       "\n",
       "    .dataframe thead th {\n",
       "        text-align: right;\n",
       "    }\n",
       "</style>\n",
       "<table border=\"1\" class=\"dataframe\">\n",
       "  <thead>\n",
       "    <tr style=\"text-align: right;\">\n",
       "      <th></th>\n",
       "      <th>Open</th>\n",
       "      <th>High</th>\n",
       "      <th>Low</th>\n",
       "      <th>Close</th>\n",
       "    </tr>\n",
       "  </thead>\n",
       "  <tbody>\n",
       "    <tr>\n",
       "      <th>0</th>\n",
       "      <td>2476.959961</td>\n",
       "      <td>2519.489990</td>\n",
       "      <td>2467.469971</td>\n",
       "      <td>2510.030029</td>\n",
       "    </tr>\n",
       "    <tr>\n",
       "      <th>1</th>\n",
       "      <td>2491.919922</td>\n",
       "      <td>2493.139893</td>\n",
       "      <td>2443.959961</td>\n",
       "      <td>2447.889893</td>\n",
       "    </tr>\n",
       "    <tr>\n",
       "      <th>2</th>\n",
       "      <td>2474.330078</td>\n",
       "      <td>2538.070068</td>\n",
       "      <td>2474.330078</td>\n",
       "      <td>2531.939941</td>\n",
       "    </tr>\n",
       "    <tr>\n",
       "      <th>3</th>\n",
       "      <td>2535.610107</td>\n",
       "      <td>2566.159912</td>\n",
       "      <td>2524.560059</td>\n",
       "      <td>2549.689941</td>\n",
       "    </tr>\n",
       "    <tr>\n",
       "      <th>4</th>\n",
       "      <td>2568.110107</td>\n",
       "      <td>2579.820068</td>\n",
       "      <td>2547.560059</td>\n",
       "      <td>2574.409912</td>\n",
       "    </tr>\n",
       "    <tr>\n",
       "      <th>...</th>\n",
       "      <td>...</td>\n",
       "      <td>...</td>\n",
       "      <td>...</td>\n",
       "      <td>...</td>\n",
       "    </tr>\n",
       "    <tr>\n",
       "      <th>1003</th>\n",
       "      <td>3815.110107</td>\n",
       "      <td>3845.800049</td>\n",
       "      <td>3797.010010</td>\n",
       "      <td>3844.820068</td>\n",
       "    </tr>\n",
       "    <tr>\n",
       "      <th>1004</th>\n",
       "      <td>3843.340088</td>\n",
       "      <td>3846.649902</td>\n",
       "      <td>3813.219971</td>\n",
       "      <td>3829.250000</td>\n",
       "    </tr>\n",
       "    <tr>\n",
       "      <th>1005</th>\n",
       "      <td>3829.560059</td>\n",
       "      <td>3848.320068</td>\n",
       "      <td>3780.780029</td>\n",
       "      <td>3783.219971</td>\n",
       "    </tr>\n",
       "    <tr>\n",
       "      <th>1006</th>\n",
       "      <td>3805.449951</td>\n",
       "      <td>3858.189941</td>\n",
       "      <td>3805.449951</td>\n",
       "      <td>3849.280029</td>\n",
       "    </tr>\n",
       "    <tr>\n",
       "      <th>1007</th>\n",
       "      <td>3829.060059</td>\n",
       "      <td>3839.850098</td>\n",
       "      <td>3800.340088</td>\n",
       "      <td>3839.500000</td>\n",
       "    </tr>\n",
       "  </tbody>\n",
       "</table>\n",
       "<p>1008 rows × 4 columns</p>\n",
       "</div>"
      ],
      "text/plain": [
       "             Open         High          Low        Close\n",
       "0     2476.959961  2519.489990  2467.469971  2510.030029\n",
       "1     2491.919922  2493.139893  2443.959961  2447.889893\n",
       "2     2474.330078  2538.070068  2474.330078  2531.939941\n",
       "3     2535.610107  2566.159912  2524.560059  2549.689941\n",
       "4     2568.110107  2579.820068  2547.560059  2574.409912\n",
       "...           ...          ...          ...          ...\n",
       "1003  3815.110107  3845.800049  3797.010010  3844.820068\n",
       "1004  3843.340088  3846.649902  3813.219971  3829.250000\n",
       "1005  3829.560059  3848.320068  3780.780029  3783.219971\n",
       "1006  3805.449951  3858.189941  3805.449951  3849.280029\n",
       "1007  3829.060059  3839.850098  3800.340088  3839.500000\n",
       "\n",
       "[1008 rows x 4 columns]"
      ]
     },
     "execution_count": 99,
     "metadata": {},
     "output_type": "execute_result"
    }
   ],
   "source": [
    "#New dataframe with only training data - 5 columns\n",
    "df_for_training = df[cols].astype(float)\n",
    "df_for_training"
   ]
  },
  {
   "cell_type": "code",
   "execution_count": 100,
   "metadata": {},
   "outputs": [
    {
     "data": {
      "text/plain": [
       "array([[-1.8083773 , -1.77008555, -1.79306259, -1.75843966],\n",
       "       [-1.78480062, -1.81144472, -1.83029715, -1.85645041],\n",
       "       [-1.81252196, -1.74092221, -1.78219773, -1.72388217],\n",
       "       ...,\n",
       "       [ 0.32330112,  0.3156492 ,  0.28692469,  0.24970366],\n",
       "       [ 0.28530393,  0.33114098,  0.32599629,  0.35389712],\n",
       "       [ 0.32251312,  0.30235472,  0.31790342,  0.33847153]])"
      ]
     },
     "execution_count": 100,
     "metadata": {},
     "output_type": "execute_result"
    }
   ],
   "source": [
    "#LSTM uses sigmoid and tanh that are sensitive to magnitude so values need to be normalized\n",
    "# normalize the dataset\n",
    "scaler = StandardScaler()\n",
    "scaler = scaler.fit(df_for_training)\n",
    "df_for_training_scaled = scaler.transform(df_for_training)\n",
    "df_for_training_scaled"
   ]
  },
  {
   "cell_type": "code",
   "execution_count": 73,
   "metadata": {},
   "outputs": [],
   "source": [
    "#As required for LSTM networks, we require to reshape an input data into n_samples x timesteps x n_features. \n",
    "#In this example, the n_features is 4. We will make timesteps = 14 (past days data used for training). \n",
    "\n",
    "#Empty lists to be populated using formatted training data\n",
    "trainX = []\n",
    "trainY = []"
   ]
  },
  {
   "cell_type": "code",
   "execution_count": 74,
   "metadata": {},
   "outputs": [],
   "source": [
    "n_future = 1   # Number of days we want to look into the future based on the past days.\n",
    "n_past = 14  # Number of past days we want to use to predict the future."
   ]
  },
  {
   "cell_type": "code",
   "execution_count": 76,
   "metadata": {},
   "outputs": [
    {
     "data": {
      "text/plain": [
       "(1008, 4)"
      ]
     },
     "execution_count": 76,
     "metadata": {},
     "output_type": "execute_result"
    }
   ],
   "source": [
    "df_for_training_scaled.shape"
   ]
  },
  {
   "cell_type": "code",
   "execution_count": 75,
   "metadata": {},
   "outputs": [],
   "source": [
    "#Reformat input data into a shape: (n_samples x timesteps x n_features)\n",
    "#In my example, my df_for_training_scaled has a shape (12823, 5)\n",
    "#12823 refers to the number of data points and 5 refers to the columns (multi-variables).\n",
    "for i in range(n_past, len(df_for_training_scaled) - n_future +1):\n",
    "    trainX.append(df_for_training_scaled[i - n_past:i, 0:df_for_training.shape[1]])\n",
    "    trainY.append(df_for_training_scaled[i + n_future - 1:i + n_future, 0])"
   ]
  },
  {
   "cell_type": "code",
   "execution_count": 77,
   "metadata": {},
   "outputs": [
    {
     "name": "stdout",
     "output_type": "stream",
     "text": [
      "trainX shape == (994, 14, 4).\n",
      "trainY shape == (994, 1).\n"
     ]
    }
   ],
   "source": [
    "trainX, trainY = np.array(trainX), np.array(trainY)\n",
    "\n",
    "print('trainX shape == {}.'.format(trainX.shape))\n",
    "print('trainY shape == {}.'.format(trainY.shape))"
   ]
  },
  {
   "cell_type": "code",
   "execution_count": null,
   "metadata": {},
   "outputs": [],
   "source": [
    "#In my case, trainX has a shape (12809, 14, 5). \n",
    "#12809 because we are looking back 14 days (12823 - 14 = 12809). \n",
    "#Remember that we cannot look back 14 days until we get to the 15th day. \n",
    "#Also, trainY has a shape (12809, 1). Our model only predicts a single value, but \n",
    "#it needs multiple variables (5 in my example) to make this prediction. \n",
    "#This is why we can only predict a single day after our training, the day after where our data ends.\n",
    "#To predict more days in future, we need all the 5 variables which we do not have. \n",
    "#We need to predict all variables if we want to do that. "
   ]
  },
  {
   "cell_type": "code",
   "execution_count": 79,
   "metadata": {},
   "outputs": [
    {
     "data": {
      "text/plain": [
       "(994, 14, 4)"
      ]
     },
     "execution_count": 79,
     "metadata": {},
     "output_type": "execute_result"
    }
   ],
   "source": [
    "trainX.shape"
   ]
  },
  {
   "cell_type": "code",
   "execution_count": 78,
   "metadata": {},
   "outputs": [
    {
     "name": "stdout",
     "output_type": "stream",
     "text": [
      "Model: \"sequential\"\n",
      "_________________________________________________________________\n",
      " Layer (type)                Output Shape              Param #   \n",
      "=================================================================\n",
      " lstm (LSTM)                 (None, 14, 64)            17664     \n",
      "                                                                 \n",
      " lstm_1 (LSTM)               (None, 32)                12416     \n",
      "                                                                 \n",
      " dropout (Dropout)           (None, 32)                0         \n",
      "                                                                 \n",
      " dense (Dense)               (None, 1)                 33        \n",
      "                                                                 \n",
      "=================================================================\n",
      "Total params: 30113 (117.63 KB)\n",
      "Trainable params: 30113 (117.63 KB)\n",
      "Non-trainable params: 0 (0.00 Byte)\n",
      "_________________________________________________________________\n"
     ]
    }
   ],
   "source": [
    "model = Sequential()\n",
    "model.add(LSTM(64, activation='relu', input_shape=(trainX.shape[1], trainX.shape[2]), return_sequences=True))\n",
    "model.add(LSTM(32, activation='relu', return_sequences=False))\n",
    "model.add(Dropout(0.2))\n",
    "model.add(Dense(trainY.shape[1]))\n",
    "\n",
    "model.compile(optimizer='adam', loss='mse')\n",
    "model.summary()"
   ]
  },
  {
   "cell_type": "code",
   "execution_count": 87,
   "metadata": {},
   "outputs": [
    {
     "name": "stdout",
     "output_type": "stream",
     "text": [
      "Epoch 1/5\n",
      "56/56 [==============================] - 1s 11ms/step - loss: 0.0330 - val_loss: 0.0115\n",
      "Epoch 2/5\n",
      "56/56 [==============================] - 1s 10ms/step - loss: 0.0346 - val_loss: 0.0100\n",
      "Epoch 3/5\n",
      "56/56 [==============================] - 1s 10ms/step - loss: 0.0293 - val_loss: 0.0113\n",
      "Epoch 4/5\n",
      "56/56 [==============================] - 1s 10ms/step - loss: 0.0308 - val_loss: 0.0112\n",
      "Epoch 5/5\n",
      "56/56 [==============================] - 1s 10ms/step - loss: 0.0323 - val_loss: 0.0089\n"
     ]
    }
   ],
   "source": [
    "# fit the model\n",
    "history = model.fit(trainX, trainY, epochs=5, batch_size=50, validation_split=0.1, verbose=1)"
   ]
  },
  {
   "cell_type": "code",
   "execution_count": 89,
   "metadata": {},
   "outputs": [
    {
     "name": "stdout",
     "output_type": "stream",
     "text": [
      "Epoch 1/5\n",
      "56/56 [==============================] - 1s 12ms/step - loss: 0.0296 - val_loss: 0.0090\n",
      "Epoch 2/5\n",
      "56/56 [==============================] - 1s 11ms/step - loss: 0.0317 - val_loss: 0.0086\n",
      "Epoch 3/5\n",
      "56/56 [==============================] - 1s 10ms/step - loss: 0.0269 - val_loss: 0.0082\n",
      "Epoch 4/5\n",
      "56/56 [==============================] - 1s 10ms/step - loss: 0.0266 - val_loss: 0.0085\n",
      "Epoch 5/5\n",
      "56/56 [==============================] - 1s 10ms/step - loss: 0.0295 - val_loss: 0.0078\n"
     ]
    }
   ],
   "source": [
    "# fit the model\n",
    "history = model.fit(trainX, trainY, epochs=5, batch_size=16, validation_split=0.1, verbose=1)"
   ]
  },
  {
   "cell_type": "code",
   "execution_count": 90,
   "metadata": {},
   "outputs": [
    {
     "name": "stdout",
     "output_type": "stream",
     "text": [
      "[Timestamp('2022-12-08 00:00:00', freq='C'), Timestamp('2022-12-09 00:00:00', freq='C'), Timestamp('2022-12-12 00:00:00', freq='C'), Timestamp('2022-12-13 00:00:00', freq='C'), Timestamp('2022-12-14 00:00:00', freq='C'), Timestamp('2022-12-15 00:00:00', freq='C'), Timestamp('2022-12-16 00:00:00', freq='C'), Timestamp('2022-12-19 00:00:00', freq='C'), Timestamp('2022-12-20 00:00:00', freq='C'), Timestamp('2022-12-21 00:00:00', freq='C'), Timestamp('2022-12-22 00:00:00', freq='C'), Timestamp('2022-12-23 00:00:00', freq='C'), Timestamp('2022-12-27 00:00:00', freq='C'), Timestamp('2022-12-28 00:00:00', freq='C'), Timestamp('2022-12-29 00:00:00', freq='C'), Timestamp('2022-12-30 00:00:00', freq='C'), Timestamp('2023-01-03 00:00:00', freq='C'), Timestamp('2023-01-04 00:00:00', freq='C'), Timestamp('2023-01-05 00:00:00', freq='C'), Timestamp('2023-01-06 00:00:00', freq='C'), Timestamp('2023-01-09 00:00:00', freq='C'), Timestamp('2023-01-10 00:00:00', freq='C'), Timestamp('2023-01-11 00:00:00', freq='C'), Timestamp('2023-01-12 00:00:00', freq='C'), Timestamp('2023-01-13 00:00:00', freq='C'), Timestamp('2023-01-17 00:00:00', freq='C'), Timestamp('2023-01-18 00:00:00', freq='C'), Timestamp('2023-01-19 00:00:00', freq='C'), Timestamp('2023-01-20 00:00:00', freq='C'), Timestamp('2023-01-23 00:00:00', freq='C'), Timestamp('2023-01-24 00:00:00', freq='C'), Timestamp('2023-01-25 00:00:00', freq='C'), Timestamp('2023-01-26 00:00:00', freq='C'), Timestamp('2023-01-27 00:00:00', freq='C'), Timestamp('2023-01-30 00:00:00', freq='C'), Timestamp('2023-01-31 00:00:00', freq='C'), Timestamp('2023-02-01 00:00:00', freq='C'), Timestamp('2023-02-02 00:00:00', freq='C'), Timestamp('2023-02-03 00:00:00', freq='C'), Timestamp('2023-02-06 00:00:00', freq='C'), Timestamp('2023-02-07 00:00:00', freq='C'), Timestamp('2023-02-08 00:00:00', freq='C'), Timestamp('2023-02-09 00:00:00', freq='C'), Timestamp('2023-02-10 00:00:00', freq='C'), Timestamp('2023-02-13 00:00:00', freq='C'), Timestamp('2023-02-14 00:00:00', freq='C'), Timestamp('2023-02-15 00:00:00', freq='C'), Timestamp('2023-02-16 00:00:00', freq='C'), Timestamp('2023-02-17 00:00:00', freq='C'), Timestamp('2023-02-21 00:00:00', freq='C')]\n"
     ]
    }
   ],
   "source": [
    "#Predicting...\n",
    "#Libraries that will help us extract only business days in the US.\n",
    "#Otherwise our dates would be wrong when we look back (or forward).  \n",
    "from pandas.tseries.holiday import USFederalHolidayCalendar\n",
    "from pandas.tseries.offsets import CustomBusinessDay\n",
    "us_bd = CustomBusinessDay(calendar=USFederalHolidayCalendar())\n",
    "#Remember that we can only predict one day in future as our model needs 5 variables\n",
    "#as inputs for prediction. We only have all 5 variables until the last day in our dataset.\n",
    "n_past = 16\n",
    "n_days_for_prediction=50  #let us predict past 15 days\n",
    "\n",
    "predict_period_dates = pd.date_range(list(train_dates)[-n_past], periods=n_days_for_prediction, freq=us_bd).tolist()\n",
    "print(predict_period_dates)\n"
   ]
  },
  {
   "cell_type": "code",
   "execution_count": 91,
   "metadata": {},
   "outputs": [
    {
     "name": "stdout",
     "output_type": "stream",
     "text": [
      "2/2 [==============================] - 0s 5ms/step\n"
     ]
    }
   ],
   "source": [
    "\n",
    "#Make prediction\n",
    "prediction = model.predict(trainX[-n_days_for_prediction:]) #shape = (n, 1) where n is the n_days_for_prediction"
   ]
  },
  {
   "cell_type": "code",
   "execution_count": 92,
   "metadata": {},
   "outputs": [],
   "source": [
    "#Perform inverse transformation to rescale back to original range\n",
    "#Since we used 5 variables for transform, the inverse expects same dimensions\n",
    "#Therefore, let us copy our values 5 times and discard them after inverse transform\n",
    "prediction_copies = np.repeat(prediction, df_for_training.shape[1], axis=-1)\n",
    "y_pred_future = scaler.inverse_transform(prediction_copies)[:,0]"
   ]
  },
  {
   "cell_type": "code",
   "execution_count": 93,
   "metadata": {},
   "outputs": [],
   "source": [
    "df = df.reset_index()\n"
   ]
  },
  {
   "cell_type": "code",
   "execution_count": 94,
   "metadata": {},
   "outputs": [
    {
     "name": "stderr",
     "output_type": "stream",
     "text": [
      "C:\\Users\\PC\\AppData\\Local\\Temp\\ipykernel_10028\\2239289300.py:11: SettingWithCopyWarning: \n",
      "A value is trying to be set on a copy of a slice from a DataFrame.\n",
      "Try using .loc[row_indexer,col_indexer] = value instead\n",
      "\n",
      "See the caveats in the documentation: https://pandas.pydata.org/pandas-docs/stable/user_guide/indexing.html#returning-a-view-versus-a-copy\n",
      "  original['Date']=pd.to_datetime(original['Date'])\n"
     ]
    },
    {
     "data": {
      "text/plain": [
       "<Axes: xlabel='Date', ylabel='Open'>"
      ]
     },
     "execution_count": 94,
     "metadata": {},
     "output_type": "execute_result"
    },
    {
     "data": {
      "image/png": "[encoded data removed]",
      "text/plain": [
       "<Figure size 640x480 with 1 Axes>"
      ]
     },
     "metadata": {},
     "output_type": "display_data"
    }
   ],
   "source": [
    "# Convert timestamp to date\n",
    "forecast_dates = []\n",
    "for time_i in predict_period_dates:\n",
    "    forecast_dates.append(time_i.date())\n",
    "    \n",
    "df_forecast = pd.DataFrame({'Date':np.array(forecast_dates), 'Open':y_pred_future})\n",
    "df_forecast['Date']=pd.to_datetime(df_forecast['Date'])\n",
    "\n",
    "\n",
    "original = df[['Date', 'Open']]\n",
    "original['Date']=pd.to_datetime(original['Date'])\n",
    "original = original.loc[original['Date'] >= '2020-5-1']\n",
    "\n",
    "sns.lineplot(x=original['Date'], y=original['Open'])\n",
    "sns.lineplot(x=df_forecast['Date'], y=df_forecast['Open'])"
   ]
  },
  {
   "cell_type": "code",
   "execution_count": null,
   "metadata": {},
   "outputs": [],
   "source": []
  }
 ],
 "metadata": {
  "kernelspec": {
   "display_name": "base",
   "language": "python",
   "name": "python3"
  },
  "language_info": {
   "codemirror_mode": {
    "name": "ipython",
    "version": 3
   },
   "file_extension": ".py",
   "mimetype": "text/x-python",
   "name": "python",
   "nbconvert_exporter": "python",
   "pygments_lexer": "ipython3",
   "version": "3.11.3"
  },
  "orig_nbformat": 4
 },
 "nbformat": 4,
 "nbformat_minor": 2
}
